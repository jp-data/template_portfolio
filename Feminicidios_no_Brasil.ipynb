{
  "nbformat": 4,
  "nbformat_minor": 0,
  "metadata": {
    "colab": {
      "name": "Feminicidios no Brasil",
      "provenance": [],
      "collapsed_sections": [],
      "authorship_tag": "ABX9TyOcs/WR3OB/gvlJyk5xXiDs",
      "include_colab_link": true
    },
    "kernelspec": {
      "name": "python3",
      "display_name": "Python 3"
    }
  },
  "cells": [
    {
      "cell_type": "markdown",
      "metadata": {
        "id": "view-in-github",
        "colab_type": "text"
      },
      "source": [
        "<a href=\"https://colab.research.google.com/github/jp-data/template_portfolio/blob/master/Feminicidios_no_Brasil.ipynb\" target=\"_parent\"><img src=\"https://colab.research.google.com/assets/colab-badge.svg\" alt=\"Open In Colab\"/></a>"
      ]
    },
    {
      "cell_type": "markdown",
      "metadata": {
        "id": "Bze6b67_uEj1",
        "colab_type": "text"
      },
      "source": [
        "**As taxas de feminicidio no Brasil estão entre as 10 maiores do mundo. Há \n",
        "anos, as autoridades brasileiras vem implementando diversas leis, politicas e programas na área de assistência social \n",
        "para diminuir esses números. Inclusive fora decretado, junto com a Lei Maria da Penha, a obrigatoriedade das autoridades em dispor para a sociedade dados abertos a respeito dos casos de homicídio de mulheres no Brasil. Orgãos como o Ministério da Justiça, o Ministério da Saúde, dentre outros, publicam periodicamente estes dados, muitas vezes discriminados por raça, idade, estado civil e outras caracteristicas das vítimas.**\n",
        "\n",
        "**A possibilidade do presente estudo é possível justamente a isso. Através do Sistema de Informação sobre Mortalidade, pertencente ao Ministério da Saúde, orgão que dispõe anualmente dados sobre homicidios de mulheres por agressão através do site do DATASUS, o projeto tem o objetivo de explorar alguns desses dados em nosso país ao longo de uma série de dez anos, que vai de 2008 a 2018. Os dados gerados, - não é novidade - colaboram com os tomadores de decisões a medida que identifica traços sociais desse tipo de crime.**\n",
        "\n"
      ]
    },
    {
      "cell_type": "markdown",
      "metadata": {
        "id": "oEtLN3UpW-hp",
        "colab_type": "text"
      },
      "source": [
        "A primeira etapa é importar as principais bibliotecas para o tratamento desses dados."
      ]
    },
    {
      "cell_type": "code",
      "metadata": {
        "id": "nvieV3_agwyj",
        "colab_type": "code",
        "colab": {
          "base_uri": "https://localhost:8080/",
          "height": 70
        },
        "outputId": "3bf868ba-d408-42c3-9506-306e08733fcf"
      },
      "source": [
        "#geração de gráficos na interface do G.colab\n",
        "%matplotlib inline \n",
        "#bibliotecas principais\n",
        "import pandas as pd \n",
        "import numpy as np \n",
        "import seaborn as sb\n",
        "import matplotlib.pyplot as plt"
      ],
      "execution_count": 1,
      "outputs": [
        {
          "output_type": "stream",
          "text": [
            "/usr/local/lib/python3.6/dist-packages/statsmodels/tools/_testing.py:19: FutureWarning: pandas.util.testing is deprecated. Use the functions in the public API at pandas.testing instead.\n",
            "  import pandas.util.testing as tm\n"
          ],
          "name": "stderr"
        }
      ]
    },
    {
      "cell_type": "code",
      "metadata": {
        "id": "sbxqAnnubbN2",
        "colab_type": "code",
        "colab": {
          "base_uri": "https://localhost:8080/",
          "height": 191
        },
        "outputId": "6ebbfe33-c756-43da-8572-24ed67a0648e"
      },
      "source": [
        "#Leitura dos arquivos (disponíveis nos uploads da própria interface do G.Coolab), definido como versão latino americana e atribuido como separador ';'\n",
        "dados_brasil = pd.read_csv('/content/fem_tx_nacional.csv',encoding='latin-1',sep=';')\n",
        "dados_ufs=pd.read_csv('/content/fem_txlocal.csv',encoding='latin-1',sep=';')\n",
        "dados_brasil.head()"
      ],
      "execution_count": 2,
      "outputs": [
        {
          "output_type": "execute_result",
          "data": {
            "text/html": [
              "<div>\n",
              "<style scoped>\n",
              "    .dataframe tbody tr th:only-of-type {\n",
              "        vertical-align: middle;\n",
              "    }\n",
              "\n",
              "    .dataframe tbody tr th {\n",
              "        vertical-align: top;\n",
              "    }\n",
              "\n",
              "    .dataframe thead th {\n",
              "        text-align: right;\n",
              "    }\n",
              "</style>\n",
              "<table border=\"1\" class=\"dataframe\">\n",
              "  <thead>\n",
              "    <tr style=\"text-align: right;\">\n",
              "      <th></th>\n",
              "      <th>ano</th>\n",
              "      <th>mortes</th>\n",
              "      <th>população</th>\n",
              "    </tr>\n",
              "  </thead>\n",
              "  <tbody>\n",
              "    <tr>\n",
              "      <th>0</th>\n",
              "      <td>2008</td>\n",
              "      <td>4023</td>\n",
              "      <td>96.715.476</td>\n",
              "    </tr>\n",
              "    <tr>\n",
              "      <th>1</th>\n",
              "      <td>2009</td>\n",
              "      <td>4260</td>\n",
              "      <td>97.767.914</td>\n",
              "    </tr>\n",
              "    <tr>\n",
              "      <th>2</th>\n",
              "      <td>2010</td>\n",
              "      <td>4465</td>\n",
              "      <td>98.791.094</td>\n",
              "    </tr>\n",
              "    <tr>\n",
              "      <th>3</th>\n",
              "      <td>2011</td>\n",
              "      <td>4512</td>\n",
              "      <td>99.786.721</td>\n",
              "    </tr>\n",
              "    <tr>\n",
              "      <th>4</th>\n",
              "      <td>2012</td>\n",
              "      <td>4719</td>\n",
              "      <td>100.755.204</td>\n",
              "    </tr>\n",
              "  </tbody>\n",
              "</table>\n",
              "</div>"
            ],
            "text/plain": [
              "    ano  mortes    população\n",
              "0  2008    4023   96.715.476\n",
              "1  2009    4260   97.767.914\n",
              "2  2010    4465   98.791.094\n",
              "3  2011    4512   99.786.721\n",
              "4  2012    4719  100.755.204"
            ]
          },
          "metadata": {
            "tags": []
          },
          "execution_count": 2
        }
      ]
    },
    {
      "cell_type": "markdown",
      "metadata": {
        "id": "ug1YH4W-EUIs",
        "colab_type": "text"
      },
      "source": [
        "**O DataSet traz os dados referentes aos homicídios de mulheres ocorridos no Brasil ano a ano, no período que vai de 2008 a 2018.**\n",
        "\n",
        "**-Na primeira coluna encontramos os anos dos registros.**\n",
        "\n",
        "**-Na segunda coluna o numero de homícidios por agressão e na terceira coluna a estimativa da população feminina em nosso território.**\n",
        "\n",
        "**-Usaremos essa coluna para criarmos uma taxa de feminicídio, uma vez que não dispomos de tal dado.**"
      ]
    },
    {
      "cell_type": "code",
      "metadata": {
        "id": "TSeworeWADjE",
        "colab_type": "code",
        "colab": {
          "base_uri": "https://localhost:8080/",
          "height": 82
        },
        "outputId": "f4495e48-955f-4546-ea8f-668d05d9fefe"
      },
      "source": [
        "#conhecendo o formato dos dados de cada variável\n",
        "dados_brasil.dtypes"
      ],
      "execution_count": 3,
      "outputs": [
        {
          "output_type": "execute_result",
          "data": {
            "text/plain": [
              "ano           int64\n",
              "mortes        int64\n",
              "população    object\n",
              "dtype: object"
            ]
          },
          "metadata": {
            "tags": []
          },
          "execution_count": 3
        }
      ]
    },
    {
      "cell_type": "markdown",
      "metadata": {
        "id": "AgOvuphLFZeF",
        "colab_type": "text"
      },
      "source": [
        "**-Observamos que a coluna que traz a estimativa populacional feminina fora tratada como dados de strings.**\n",
        "\n",
        "**-Vamos então transformar esses dados em uma série de numeros inteiros, de forma a viabilizar a construção das taxas de feminicídio.**"
      ]
    },
    {
      "cell_type": "code",
      "metadata": {
        "id": "OFfF3CzHZFxZ",
        "colab_type": "code",
        "colab": {
          "base_uri": "https://localhost:8080/",
          "height": 191
        },
        "outputId": "0b3df19f-c379-4ffe-ea76-91f455c6815a"
      },
      "source": [
        "#acessando a coluna tratada como strings, substituindo os pontos entre os números para que depois seja possível tranformar seus formatos. \n",
        "dados_brasil.população=dados_brasil.população.str.replace('.','').astype(int)\n",
        "\n",
        "#criando uma lista que resulta da razão entre os homicidios de mulheres e a estimativa da população feminina (ambas variáveis acessadas por dot notation no Dataset),\n",
        "# multiplicada por 100000, o que nos fornece a taxa de homicidios de mulheres a cada 100 mil mulheres no território.\n",
        "lista=(dados_brasil.mortes/dados_brasil.população)*100000\n",
        "\n",
        "#arredondando os valores para uma casa decimal com a função round e logo então adicionando essa lista ao Dataset\n",
        "lista=round(lista,1)\n",
        "dados_brasil['tx_nacional_homicidios']=pd.Series(lista)\n",
        "\n",
        "#visualizando o DataSet com a nova variável\n",
        "dados_brasil.head()"
      ],
      "execution_count": 4,
      "outputs": [
        {
          "output_type": "execute_result",
          "data": {
            "text/html": [
              "<div>\n",
              "<style scoped>\n",
              "    .dataframe tbody tr th:only-of-type {\n",
              "        vertical-align: middle;\n",
              "    }\n",
              "\n",
              "    .dataframe tbody tr th {\n",
              "        vertical-align: top;\n",
              "    }\n",
              "\n",
              "    .dataframe thead th {\n",
              "        text-align: right;\n",
              "    }\n",
              "</style>\n",
              "<table border=\"1\" class=\"dataframe\">\n",
              "  <thead>\n",
              "    <tr style=\"text-align: right;\">\n",
              "      <th></th>\n",
              "      <th>ano</th>\n",
              "      <th>mortes</th>\n",
              "      <th>população</th>\n",
              "      <th>tx_nacional_homicidios</th>\n",
              "    </tr>\n",
              "  </thead>\n",
              "  <tbody>\n",
              "    <tr>\n",
              "      <th>0</th>\n",
              "      <td>2008</td>\n",
              "      <td>4023</td>\n",
              "      <td>96715476</td>\n",
              "      <td>4.2</td>\n",
              "    </tr>\n",
              "    <tr>\n",
              "      <th>1</th>\n",
              "      <td>2009</td>\n",
              "      <td>4260</td>\n",
              "      <td>97767914</td>\n",
              "      <td>4.4</td>\n",
              "    </tr>\n",
              "    <tr>\n",
              "      <th>2</th>\n",
              "      <td>2010</td>\n",
              "      <td>4465</td>\n",
              "      <td>98791094</td>\n",
              "      <td>4.5</td>\n",
              "    </tr>\n",
              "    <tr>\n",
              "      <th>3</th>\n",
              "      <td>2011</td>\n",
              "      <td>4512</td>\n",
              "      <td>99786721</td>\n",
              "      <td>4.5</td>\n",
              "    </tr>\n",
              "    <tr>\n",
              "      <th>4</th>\n",
              "      <td>2012</td>\n",
              "      <td>4719</td>\n",
              "      <td>100755204</td>\n",
              "      <td>4.7</td>\n",
              "    </tr>\n",
              "  </tbody>\n",
              "</table>\n",
              "</div>"
            ],
            "text/plain": [
              "    ano  mortes  população  tx_nacional_homicidios\n",
              "0  2008    4023   96715476                     4.2\n",
              "1  2009    4260   97767914                     4.4\n",
              "2  2010    4465   98791094                     4.5\n",
              "3  2011    4512   99786721                     4.5\n",
              "4  2012    4719  100755204                     4.7"
            ]
          },
          "metadata": {
            "tags": []
          },
          "execution_count": 4
        }
      ]
    },
    {
      "cell_type": "code",
      "metadata": {
        "id": "JxPfX1ZWgjvo",
        "colab_type": "code",
        "colab": {
          "base_uri": "https://localhost:8080/",
          "height": 98
        },
        "outputId": "b55a5b16-ec68-461a-8713-1103f7df6295"
      },
      "source": [
        "#verificando novamente o formato dos dados\n",
        "dados_brasil.dtypes"
      ],
      "execution_count": 5,
      "outputs": [
        {
          "output_type": "execute_result",
          "data": {
            "text/plain": [
              "ano                         int64\n",
              "mortes                      int64\n",
              "população                   int64\n",
              "tx_nacional_homicidios    float64\n",
              "dtype: object"
            ]
          },
          "metadata": {
            "tags": []
          },
          "execution_count": 5
        }
      ]
    },
    {
      "cell_type": "markdown",
      "metadata": {
        "id": "VwpRjuQBZlhC",
        "colab_type": "text"
      },
      "source": [
        "**- Pelo código abaixo, podemos observar que a taxa de feminicidio no Brasil, segundo estes dados do DATASUS, se situou em uma média de 4.5 mortes de mulheres a cada 100mil mulheres nesses ultimos dez anos.**\n",
        "\n",
        "**- O menor valor da série foi de 4.2 mortes a cada 100 mil mulheres; o maior valor fora de 4.7 homicidios violentos a cada 100 mil mulheres.**"
      ]
    },
    {
      "cell_type": "code",
      "metadata": {
        "id": "iD2J21ATJlza",
        "colab_type": "code",
        "colab": {
          "base_uri": "https://localhost:8080/",
          "height": 82
        },
        "outputId": "69200b73-fa83-40b4-9088-67fdd18340e1"
      },
      "source": [
        "#verificando a média e os valores máximo e mínimo das taxas de homicidios criadas. \n",
        "dados_brasil.tx_nacional_homicidios.agg(['min','max','mean'])"
      ],
      "execution_count": 6,
      "outputs": [
        {
          "output_type": "execute_result",
          "data": {
            "text/plain": [
              "min     4.200000\n",
              "max     4.700000\n",
              "mean    4.509091\n",
              "Name: tx_nacional_homicidios, dtype: float64"
            ]
          },
          "metadata": {
            "tags": []
          },
          "execution_count": 6
        }
      ]
    },
    {
      "cell_type": "markdown",
      "metadata": {
        "id": "LlkeZcyb2b1U",
        "colab_type": "text"
      },
      "source": [
        "#**Observando dados brutos.**\n",
        "\n",
        "**O código abaixo mostra que o DataFrame possui 11 observações.**\n",
        "\n",
        "**Então vamos acessar as mortes ocorridas no indice 0, que corresponde a primeira observação, no ano de 2008, bem como acessar as mortes registradas no indice 10, correspondente a ultima observação, no ano de 2018, para dessa forma verificar a variação desses dados.**"
      ]
    },
    {
      "cell_type": "code",
      "metadata": {
        "id": "TK4e2QDw2h9g",
        "colab_type": "code",
        "colab": {
          "base_uri": "https://localhost:8080/",
          "height": 66
        },
        "outputId": "48b13e4b-b11a-47bd-f089-d6fdc7a28228"
      },
      "source": [
        "#visualizando o número de observações do DATASET.\n",
        "print('O DataSet possui',(len(dados_brasil)),'observações.')\n",
        "#Acessando as mortes ocorridas no primeiro e no último ano da série analisada.\n",
        "print('Homicidios violentos de mulheres ocorridos em 2008:', (dados_brasil.mortes.loc[0]))\n",
        "print('Homicidios violentos de mulheres ocorridos em 2018:', (dados_brasil.mortes.loc[10]))"
      ],
      "execution_count": 7,
      "outputs": [
        {
          "output_type": "stream",
          "text": [
            "O DataSet possui 11 observações.\n",
            "Homicidios violentos de mulheres ocorridos em 2008: 4023\n",
            "Homicidios violentos de mulheres ocorridos em 2018: 4512\n"
          ],
          "name": "stdout"
        }
      ]
    },
    {
      "cell_type": "markdown",
      "metadata": {
        "id": "LIug_hQMEjdJ",
        "colab_type": "text"
      },
      "source": [
        "#**Observando a trajetória desses dados graficamente.**\n",
        "\n",
        "**Abaixo um código para visualizar a tendência de elevação da taxa de homicídios de mulheres por agressão ao longo dos últimos anos.**"
      ]
    },
    {
      "cell_type": "code",
      "metadata": {
        "id": "v1ykORt9nMQs",
        "colab_type": "code",
        "colab": {
          "base_uri": "https://localhost:8080/",
          "height": 462
        },
        "outputId": "659f9519-5c52-456a-db84-f3e1da4e1773"
      },
      "source": [
        "#Definindo os eixos X e Y do gráfico por Dot Notation.\n",
        "x=dados_brasil.ano\n",
        "y=dados_brasil.tx_nacional_homicidios\n",
        "\n",
        "#plotando o gráfico definindo o marcador, sua cor e tamanho.\n",
        "figura= plt.figure(figsize=(10,6.8))\n",
        "figura= plt.plot(x,y,c='blue',ls='-',lw=3)\n",
        "\n",
        "#criando variáveis de escala para os eixos X e Y.\n",
        "eixoY=[0,2.0,4.0,6.0]\n",
        "eixoX=[2008,2010,2012,2014,2016,2018]\n",
        "\n",
        "#definindo a escala visual dos eixos\n",
        "plt.yticks([0,1,4,7],eixoY)\n",
        "plt.xticks([2008,2010,2012,2014,2016,2018],eixoX)\n",
        "\n",
        "#incluindo as legendas dos eixos\n",
        "plt.xlabel('Ano',color='black',fontsize=15, labelpad= 10)\n",
        "plt.ylabel('taxa de homicidios por 100mil mulheres',color='black',fontsize=15, labelpad= 10)\n",
        "plt.title('Trajetória da taxa nacional de feminicídio',fontsize=18)\n",
        "plt.show()"
      ],
      "execution_count": 17,
      "outputs": [
        {
          "output_type": "display_data",
          "data": {
            "image/png": "[encoded data removed]",
            "text/plain": [
              "<Figure size 720x489.6 with 1 Axes>"
            ]
          },
          "metadata": {
            "tags": [],
            "needs_background": "light"
          }
        }
      ]
    },
    {
      "cell_type": "markdown",
      "metadata": {
        "id": "FVz_QwTMrO8m",
        "colab_type": "text"
      },
      "source": [
        "**Podemos claramente observar essa elevação no inicio da série, que vai de 2008 a 2014; logo após, até o ano de 2016, houve uma leve tendência de queda. Os casos aumentam em 2017 e atinge o maior número da série - 4.7 mortes a cada 100 mil mulheres -  e diminuem novamente em 2018.**"
      ]
    },
    {
      "cell_type": "markdown",
      "metadata": {
        "id": "PQEyoQ3543AJ",
        "colab_type": "text"
      },
      "source": [
        "#**Observando as taxas regionais de feminicídio.**\n",
        "\n",
        "---\n",
        "\n"
      ]
    },
    {
      "cell_type": "code",
      "metadata": {
        "id": "1fuBA40s8glu",
        "colab_type": "code",
        "colab": {
          "base_uri": "https://localhost:8080/",
          "height": 622
        },
        "outputId": "1d230943-c242-44dc-dfee-326dfddc4bdf"
      },
      "source": [
        "dados_ufs.head(20)"
      ],
      "execution_count": 19,
      "outputs": [
        {
          "output_type": "execute_result",
          "data": {
            "text/html": [
              "<div>\n",
              "<style scoped>\n",
              "    .dataframe tbody tr th:only-of-type {\n",
              "        vertical-align: middle;\n",
              "    }\n",
              "\n",
              "    .dataframe tbody tr th {\n",
              "        vertical-align: top;\n",
              "    }\n",
              "\n",
              "    .dataframe thead th {\n",
              "        text-align: right;\n",
              "    }\n",
              "</style>\n",
              "<table border=\"1\" class=\"dataframe\">\n",
              "  <thead>\n",
              "    <tr style=\"text-align: right;\">\n",
              "      <th></th>\n",
              "      <th>ufs</th>\n",
              "      <th>ano</th>\n",
              "      <th>mortes</th>\n",
              "      <th>população</th>\n",
              "    </tr>\n",
              "  </thead>\n",
              "  <tbody>\n",
              "    <tr>\n",
              "      <th>0</th>\n",
              "      <td>Rondonia</td>\n",
              "      <td>2008</td>\n",
              "      <td>39</td>\n",
              "      <td>788669</td>\n",
              "    </tr>\n",
              "    <tr>\n",
              "      <th>1</th>\n",
              "      <td>Rondonia</td>\n",
              "      <td>2009</td>\n",
              "      <td>52</td>\n",
              "      <td>800782</td>\n",
              "    </tr>\n",
              "    <tr>\n",
              "      <th>2</th>\n",
              "      <td>Rondonia</td>\n",
              "      <td>2010</td>\n",
              "      <td>37</td>\n",
              "      <td>812517</td>\n",
              "    </tr>\n",
              "    <tr>\n",
              "      <th>3</th>\n",
              "      <td>Rondonia</td>\n",
              "      <td>2011</td>\n",
              "      <td>48</td>\n",
              "      <td>823916</td>\n",
              "    </tr>\n",
              "    <tr>\n",
              "      <th>4</th>\n",
              "      <td>Rondonia</td>\n",
              "      <td>2012</td>\n",
              "      <td>50</td>\n",
              "      <td>835006</td>\n",
              "    </tr>\n",
              "    <tr>\n",
              "      <th>5</th>\n",
              "      <td>Rondonia</td>\n",
              "      <td>2013</td>\n",
              "      <td>49</td>\n",
              "      <td>845792</td>\n",
              "    </tr>\n",
              "    <tr>\n",
              "      <th>6</th>\n",
              "      <td>Rondonia</td>\n",
              "      <td>2014</td>\n",
              "      <td>56</td>\n",
              "      <td>856278</td>\n",
              "    </tr>\n",
              "    <tr>\n",
              "      <th>7</th>\n",
              "      <td>Rondonia</td>\n",
              "      <td>2015</td>\n",
              "      <td>63</td>\n",
              "      <td>866454</td>\n",
              "    </tr>\n",
              "    <tr>\n",
              "      <th>8</th>\n",
              "      <td>Rondonia</td>\n",
              "      <td>2016</td>\n",
              "      <td>53</td>\n",
              "      <td>876337</td>\n",
              "    </tr>\n",
              "    <tr>\n",
              "      <th>9</th>\n",
              "      <td>Rondonia</td>\n",
              "      <td>2017</td>\n",
              "      <td>62</td>\n",
              "      <td>885954</td>\n",
              "    </tr>\n",
              "    <tr>\n",
              "      <th>10</th>\n",
              "      <td>Rondonia</td>\n",
              "      <td>2018</td>\n",
              "      <td>42</td>\n",
              "      <td>895299</td>\n",
              "    </tr>\n",
              "    <tr>\n",
              "      <th>11</th>\n",
              "      <td>Acre</td>\n",
              "      <td>2008</td>\n",
              "      <td>14</td>\n",
              "      <td>348217</td>\n",
              "    </tr>\n",
              "    <tr>\n",
              "      <th>12</th>\n",
              "      <td>Acre</td>\n",
              "      <td>2009</td>\n",
              "      <td>16</td>\n",
              "      <td>355604</td>\n",
              "    </tr>\n",
              "    <tr>\n",
              "      <th>13</th>\n",
              "      <td>Acre</td>\n",
              "      <td>2010</td>\n",
              "      <td>18</td>\n",
              "      <td>362900</td>\n",
              "    </tr>\n",
              "    <tr>\n",
              "      <th>14</th>\n",
              "      <td>Acre</td>\n",
              "      <td>2011</td>\n",
              "      <td>19</td>\n",
              "      <td>370119</td>\n",
              "    </tr>\n",
              "    <tr>\n",
              "      <th>15</th>\n",
              "      <td>Acre</td>\n",
              "      <td>2012</td>\n",
              "      <td>17</td>\n",
              "      <td>377258</td>\n",
              "    </tr>\n",
              "    <tr>\n",
              "      <th>16</th>\n",
              "      <td>Acre</td>\n",
              "      <td>2013</td>\n",
              "      <td>33</td>\n",
              "      <td>384306</td>\n",
              "    </tr>\n",
              "    <tr>\n",
              "      <th>17</th>\n",
              "      <td>Acre</td>\n",
              "      <td>2014</td>\n",
              "      <td>20</td>\n",
              "      <td>391256</td>\n",
              "    </tr>\n",
              "    <tr>\n",
              "      <th>18</th>\n",
              "      <td>Acre</td>\n",
              "      <td>2015</td>\n",
              "      <td>19</td>\n",
              "      <td>398092</td>\n",
              "    </tr>\n",
              "    <tr>\n",
              "      <th>19</th>\n",
              "      <td>Acre</td>\n",
              "      <td>2016</td>\n",
              "      <td>23</td>\n",
              "      <td>404807</td>\n",
              "    </tr>\n",
              "  </tbody>\n",
              "</table>\n",
              "</div>"
            ],
            "text/plain": [
              "         ufs   ano  mortes  população\n",
              "0   Rondonia  2008      39     788669\n",
              "1   Rondonia  2009      52     800782\n",
              "2   Rondonia  2010      37     812517\n",
              "3   Rondonia  2011      48     823916\n",
              "4   Rondonia  2012      50     835006\n",
              "5   Rondonia  2013      49     845792\n",
              "6   Rondonia  2014      56     856278\n",
              "7   Rondonia  2015      63     866454\n",
              "8   Rondonia  2016      53     876337\n",
              "9   Rondonia  2017      62     885954\n",
              "10  Rondonia  2018      42     895299\n",
              "11      Acre  2008      14     348217\n",
              "12      Acre  2009      16     355604\n",
              "13      Acre  2010      18     362900\n",
              "14      Acre  2011      19     370119\n",
              "15      Acre  2012      17     377258\n",
              "16      Acre  2013      33     384306\n",
              "17      Acre  2014      20     391256\n",
              "18      Acre  2015      19     398092\n",
              "19      Acre  2016      23     404807"
            ]
          },
          "metadata": {
            "tags": []
          },
          "execution_count": 19
        }
      ]
    },
    {
      "cell_type": "markdown",
      "metadata": {
        "id": "1EWeSKcbMNT-",
        "colab_type": "text"
      },
      "source": [
        "**-Este DataSet traz o número anual de homicídios de mulheres por motivos de agressão e as estimativas populacionais femininas, ambos dados separados por ano e estados brasileiros.** \n",
        "\n",
        "**-Vamos criar a taxa de homicidios de mulheres a cada 100 mil mulheres para cada estado, em cada ano, de forma a visualizarmos graficamente o comportamento dessas taxas ao longo da série**"
      ]
    },
    {
      "cell_type": "code",
      "metadata": {
        "id": "g32WUVz-5KNa",
        "colab_type": "code",
        "colab": {
          "base_uri": "https://localhost:8080/",
          "height": 98
        },
        "outputId": "94650e9e-a18c-4461-df09-f0b6933ddc16"
      },
      "source": [
        "#conhecendo o formato de cada variável\n",
        "dados_ufs.dtypes"
      ],
      "execution_count": 20,
      "outputs": [
        {
          "output_type": "execute_result",
          "data": {
            "text/plain": [
              "ufs          object\n",
              "ano           int64\n",
              "mortes        int64\n",
              "população     int64\n",
              "dtype: object"
            ]
          },
          "metadata": {
            "tags": []
          },
          "execution_count": 20
        }
      ]
    },
    {
      "cell_type": "code",
      "metadata": {
        "id": "k5p5Zmmx5gSD",
        "colab_type": "code",
        "colab": {
          "base_uri": "https://localhost:8080/",
          "height": 766
        },
        "outputId": "7d000328-0e7c-48df-dd3c-cc355a143528"
      },
      "source": [
        "#criando uma coluna no DataSet que irá conter as taxas de homicidios de mulheres por agressão a cada 100 mil mulheres:\n",
        "#acessaremos os dados por Dot Notation e faremos a razão entre as mortes e a população feminina estimada e então multiplicaremos por 100mil.\n",
        "#Com a função round arrendodaremos os resultados com somente uma casa decimal.\n",
        "dados_ufs['tx_regional_homicidios']=round((dados_ufs.mortes/dados_ufs.população)*100000,1)\n",
        "\n",
        "#visualizando o novo DataSet\n",
        "dados_ufs.head(25)"
      ],
      "execution_count": 21,
      "outputs": [
        {
          "output_type": "execute_result",
          "data": {
            "text/html": [
              "<div>\n",
              "<style scoped>\n",
              "    .dataframe tbody tr th:only-of-type {\n",
              "        vertical-align: middle;\n",
              "    }\n",
              "\n",
              "    .dataframe tbody tr th {\n",
              "        vertical-align: top;\n",
              "    }\n",
              "\n",
              "    .dataframe thead th {\n",
              "        text-align: right;\n",
              "    }\n",
              "</style>\n",
              "<table border=\"1\" class=\"dataframe\">\n",
              "  <thead>\n",
              "    <tr style=\"text-align: right;\">\n",
              "      <th></th>\n",
              "      <th>ufs</th>\n",
              "      <th>ano</th>\n",
              "      <th>mortes</th>\n",
              "      <th>população</th>\n",
              "      <th>tx_regional_homicidios</th>\n",
              "    </tr>\n",
              "  </thead>\n",
              "  <tbody>\n",
              "    <tr>\n",
              "      <th>0</th>\n",
              "      <td>Rondonia</td>\n",
              "      <td>2008</td>\n",
              "      <td>39</td>\n",
              "      <td>788669</td>\n",
              "      <td>4.9</td>\n",
              "    </tr>\n",
              "    <tr>\n",
              "      <th>1</th>\n",
              "      <td>Rondonia</td>\n",
              "      <td>2009</td>\n",
              "      <td>52</td>\n",
              "      <td>800782</td>\n",
              "      <td>6.5</td>\n",
              "    </tr>\n",
              "    <tr>\n",
              "      <th>2</th>\n",
              "      <td>Rondonia</td>\n",
              "      <td>2010</td>\n",
              "      <td>37</td>\n",
              "      <td>812517</td>\n",
              "      <td>4.6</td>\n",
              "    </tr>\n",
              "    <tr>\n",
              "      <th>3</th>\n",
              "      <td>Rondonia</td>\n",
              "      <td>2011</td>\n",
              "      <td>48</td>\n",
              "      <td>823916</td>\n",
              "      <td>5.8</td>\n",
              "    </tr>\n",
              "    <tr>\n",
              "      <th>4</th>\n",
              "      <td>Rondonia</td>\n",
              "      <td>2012</td>\n",
              "      <td>50</td>\n",
              "      <td>835006</td>\n",
              "      <td>6.0</td>\n",
              "    </tr>\n",
              "    <tr>\n",
              "      <th>5</th>\n",
              "      <td>Rondonia</td>\n",
              "      <td>2013</td>\n",
              "      <td>49</td>\n",
              "      <td>845792</td>\n",
              "      <td>5.8</td>\n",
              "    </tr>\n",
              "    <tr>\n",
              "      <th>6</th>\n",
              "      <td>Rondonia</td>\n",
              "      <td>2014</td>\n",
              "      <td>56</td>\n",
              "      <td>856278</td>\n",
              "      <td>6.5</td>\n",
              "    </tr>\n",
              "    <tr>\n",
              "      <th>7</th>\n",
              "      <td>Rondonia</td>\n",
              "      <td>2015</td>\n",
              "      <td>63</td>\n",
              "      <td>866454</td>\n",
              "      <td>7.3</td>\n",
              "    </tr>\n",
              "    <tr>\n",
              "      <th>8</th>\n",
              "      <td>Rondonia</td>\n",
              "      <td>2016</td>\n",
              "      <td>53</td>\n",
              "      <td>876337</td>\n",
              "      <td>6.0</td>\n",
              "    </tr>\n",
              "    <tr>\n",
              "      <th>9</th>\n",
              "      <td>Rondonia</td>\n",
              "      <td>2017</td>\n",
              "      <td>62</td>\n",
              "      <td>885954</td>\n",
              "      <td>7.0</td>\n",
              "    </tr>\n",
              "    <tr>\n",
              "      <th>10</th>\n",
              "      <td>Rondonia</td>\n",
              "      <td>2018</td>\n",
              "      <td>42</td>\n",
              "      <td>895299</td>\n",
              "      <td>4.7</td>\n",
              "    </tr>\n",
              "    <tr>\n",
              "      <th>11</th>\n",
              "      <td>Acre</td>\n",
              "      <td>2008</td>\n",
              "      <td>14</td>\n",
              "      <td>348217</td>\n",
              "      <td>4.0</td>\n",
              "    </tr>\n",
              "    <tr>\n",
              "      <th>12</th>\n",
              "      <td>Acre</td>\n",
              "      <td>2009</td>\n",
              "      <td>16</td>\n",
              "      <td>355604</td>\n",
              "      <td>4.5</td>\n",
              "    </tr>\n",
              "    <tr>\n",
              "      <th>13</th>\n",
              "      <td>Acre</td>\n",
              "      <td>2010</td>\n",
              "      <td>18</td>\n",
              "      <td>362900</td>\n",
              "      <td>5.0</td>\n",
              "    </tr>\n",
              "    <tr>\n",
              "      <th>14</th>\n",
              "      <td>Acre</td>\n",
              "      <td>2011</td>\n",
              "      <td>19</td>\n",
              "      <td>370119</td>\n",
              "      <td>5.1</td>\n",
              "    </tr>\n",
              "    <tr>\n",
              "      <th>15</th>\n",
              "      <td>Acre</td>\n",
              "      <td>2012</td>\n",
              "      <td>17</td>\n",
              "      <td>377258</td>\n",
              "      <td>4.5</td>\n",
              "    </tr>\n",
              "    <tr>\n",
              "      <th>16</th>\n",
              "      <td>Acre</td>\n",
              "      <td>2013</td>\n",
              "      <td>33</td>\n",
              "      <td>384306</td>\n",
              "      <td>8.6</td>\n",
              "    </tr>\n",
              "    <tr>\n",
              "      <th>17</th>\n",
              "      <td>Acre</td>\n",
              "      <td>2014</td>\n",
              "      <td>20</td>\n",
              "      <td>391256</td>\n",
              "      <td>5.1</td>\n",
              "    </tr>\n",
              "    <tr>\n",
              "      <th>18</th>\n",
              "      <td>Acre</td>\n",
              "      <td>2015</td>\n",
              "      <td>19</td>\n",
              "      <td>398092</td>\n",
              "      <td>4.8</td>\n",
              "    </tr>\n",
              "    <tr>\n",
              "      <th>19</th>\n",
              "      <td>Acre</td>\n",
              "      <td>2016</td>\n",
              "      <td>23</td>\n",
              "      <td>404807</td>\n",
              "      <td>5.7</td>\n",
              "    </tr>\n",
              "    <tr>\n",
              "      <th>20</th>\n",
              "      <td>Acre</td>\n",
              "      <td>2017</td>\n",
              "      <td>34</td>\n",
              "      <td>411402</td>\n",
              "      <td>8.3</td>\n",
              "    </tr>\n",
              "    <tr>\n",
              "      <th>21</th>\n",
              "      <td>Acre</td>\n",
              "      <td>2018</td>\n",
              "      <td>35</td>\n",
              "      <td>417864</td>\n",
              "      <td>8.4</td>\n",
              "    </tr>\n",
              "    <tr>\n",
              "      <th>22</th>\n",
              "      <td>Alagoas</td>\n",
              "      <td>2008</td>\n",
              "      <td>83</td>\n",
              "      <td>1618624</td>\n",
              "      <td>5.1</td>\n",
              "    </tr>\n",
              "    <tr>\n",
              "      <th>23</th>\n",
              "      <td>Alagoas</td>\n",
              "      <td>2009</td>\n",
              "      <td>109</td>\n",
              "      <td>1634511</td>\n",
              "      <td>6.7</td>\n",
              "    </tr>\n",
              "    <tr>\n",
              "      <th>24</th>\n",
              "      <td>Alagoas</td>\n",
              "      <td>2010</td>\n",
              "      <td>134</td>\n",
              "      <td>1649639</td>\n",
              "      <td>8.1</td>\n",
              "    </tr>\n",
              "  </tbody>\n",
              "</table>\n",
              "</div>"
            ],
            "text/plain": [
              "         ufs   ano  mortes  população  tx_regional_homicidios\n",
              "0   Rondonia  2008      39     788669                     4.9\n",
              "1   Rondonia  2009      52     800782                     6.5\n",
              "2   Rondonia  2010      37     812517                     4.6\n",
              "3   Rondonia  2011      48     823916                     5.8\n",
              "4   Rondonia  2012      50     835006                     6.0\n",
              "5   Rondonia  2013      49     845792                     5.8\n",
              "6   Rondonia  2014      56     856278                     6.5\n",
              "7   Rondonia  2015      63     866454                     7.3\n",
              "8   Rondonia  2016      53     876337                     6.0\n",
              "9   Rondonia  2017      62     885954                     7.0\n",
              "10  Rondonia  2018      42     895299                     4.7\n",
              "11      Acre  2008      14     348217                     4.0\n",
              "12      Acre  2009      16     355604                     4.5\n",
              "13      Acre  2010      18     362900                     5.0\n",
              "14      Acre  2011      19     370119                     5.1\n",
              "15      Acre  2012      17     377258                     4.5\n",
              "16      Acre  2013      33     384306                     8.6\n",
              "17      Acre  2014      20     391256                     5.1\n",
              "18      Acre  2015      19     398092                     4.8\n",
              "19      Acre  2016      23     404807                     5.7\n",
              "20      Acre  2017      34     411402                     8.3\n",
              "21      Acre  2018      35     417864                     8.4\n",
              "22   Alagoas  2008      83    1618624                     5.1\n",
              "23   Alagoas  2009     109    1634511                     6.7\n",
              "24   Alagoas  2010     134    1649639                     8.1"
            ]
          },
          "metadata": {
            "tags": []
          },
          "execution_count": 21
        }
      ]
    },
    {
      "cell_type": "markdown",
      "metadata": {
        "id": "XfHfF-khy4Tr",
        "colab_type": "text"
      },
      "source": [
        "-**Nota: como o Dataset traz os dados para cada estado brasileiro ao longo dos anos, estados com nomes compostos foram registrados com espaço entre seus nomes, o que pode atrapalhar as iterações que faremos no DataSet.**\n",
        "\n",
        "-**Logo, vamos substituir as strings que contêm espaços por strings separadas por '_' ; por exemplo, a uf 'Distrito Federal' passará a ser identificada como 'Distrito_Federal'.**\n",
        "\n"
      ]
    },
    {
      "cell_type": "code",
      "metadata": {
        "id": "IA4Qn7QfugtM",
        "colab_type": "code",
        "colab": {
          "base_uri": "https://localhost:8080/",
          "height": 191
        },
        "outputId": "3868e9d6-9453-4b69-fe10-a6fed1a2e318"
      },
      "source": [
        "#dados com nomes compostos podem atrapalhar as iterações uma vez que seus nomes são separados por espaço.\n",
        "dados_ufs.tail()"
      ],
      "execution_count": 22,
      "outputs": [
        {
          "output_type": "execute_result",
          "data": {
            "text/html": [
              "<div>\n",
              "<style scoped>\n",
              "    .dataframe tbody tr th:only-of-type {\n",
              "        vertical-align: middle;\n",
              "    }\n",
              "\n",
              "    .dataframe tbody tr th {\n",
              "        vertical-align: top;\n",
              "    }\n",
              "\n",
              "    .dataframe thead th {\n",
              "        text-align: right;\n",
              "    }\n",
              "</style>\n",
              "<table border=\"1\" class=\"dataframe\">\n",
              "  <thead>\n",
              "    <tr style=\"text-align: right;\">\n",
              "      <th></th>\n",
              "      <th>ufs</th>\n",
              "      <th>ano</th>\n",
              "      <th>mortes</th>\n",
              "      <th>população</th>\n",
              "      <th>tx_regional_homicidios</th>\n",
              "    </tr>\n",
              "  </thead>\n",
              "  <tbody>\n",
              "    <tr>\n",
              "      <th>292</th>\n",
              "      <td>Distrito Federal</td>\n",
              "      <td>2014</td>\n",
              "      <td>76</td>\n",
              "      <td>1498920</td>\n",
              "      <td>5.1</td>\n",
              "    </tr>\n",
              "    <tr>\n",
              "      <th>293</th>\n",
              "      <td>Distrito Federal</td>\n",
              "      <td>2015</td>\n",
              "      <td>70</td>\n",
              "      <td>1533244</td>\n",
              "      <td>4.6</td>\n",
              "    </tr>\n",
              "    <tr>\n",
              "      <th>294</th>\n",
              "      <td>Distrito Federal</td>\n",
              "      <td>2016</td>\n",
              "      <td>69</td>\n",
              "      <td>1567545</td>\n",
              "      <td>4.4</td>\n",
              "    </tr>\n",
              "    <tr>\n",
              "      <th>295</th>\n",
              "      <td>Distrito Federal</td>\n",
              "      <td>2017</td>\n",
              "      <td>47</td>\n",
              "      <td>1601779</td>\n",
              "      <td>2.9</td>\n",
              "    </tr>\n",
              "    <tr>\n",
              "      <th>296</th>\n",
              "      <td>Distrito Federal</td>\n",
              "      <td>2018</td>\n",
              "      <td>55</td>\n",
              "      <td>1635788</td>\n",
              "      <td>3.4</td>\n",
              "    </tr>\n",
              "  </tbody>\n",
              "</table>\n",
              "</div>"
            ],
            "text/plain": [
              "                  ufs   ano  mortes  população  tx_regional_homicidios\n",
              "292  Distrito Federal  2014      76    1498920                     5.1\n",
              "293  Distrito Federal  2015      70    1533244                     4.6\n",
              "294  Distrito Federal  2016      69    1567545                     4.4\n",
              "295  Distrito Federal  2017      47    1601779                     2.9\n",
              "296  Distrito Federal  2018      55    1635788                     3.4"
            ]
          },
          "metadata": {
            "tags": []
          },
          "execution_count": 22
        }
      ]
    },
    {
      "cell_type": "code",
      "metadata": {
        "id": "03hQV4KxdblE",
        "colab_type": "code",
        "colab": {
          "base_uri": "https://localhost:8080/",
          "height": 191
        },
        "outputId": "137f3942-f4f3-4214-93e9-9925a58bf9f3"
      },
      "source": [
        "#com Dot Notation e a função replace, acessamos todas as ufs com nomes compostos na coluna 'ufs' e substituimos os espaços por '_'\n",
        "dados_ufs.ufs=dados_ufs.ufs.str.replace(' ','_')\n",
        "dados_ufs.tail()"
      ],
      "execution_count": 23,
      "outputs": [
        {
          "output_type": "execute_result",
          "data": {
            "text/html": [
              "<div>\n",
              "<style scoped>\n",
              "    .dataframe tbody tr th:only-of-type {\n",
              "        vertical-align: middle;\n",
              "    }\n",
              "\n",
              "    .dataframe tbody tr th {\n",
              "        vertical-align: top;\n",
              "    }\n",
              "\n",
              "    .dataframe thead th {\n",
              "        text-align: right;\n",
              "    }\n",
              "</style>\n",
              "<table border=\"1\" class=\"dataframe\">\n",
              "  <thead>\n",
              "    <tr style=\"text-align: right;\">\n",
              "      <th></th>\n",
              "      <th>ufs</th>\n",
              "      <th>ano</th>\n",
              "      <th>mortes</th>\n",
              "      <th>população</th>\n",
              "      <th>tx_regional_homicidios</th>\n",
              "    </tr>\n",
              "  </thead>\n",
              "  <tbody>\n",
              "    <tr>\n",
              "      <th>292</th>\n",
              "      <td>Distrito_Federal</td>\n",
              "      <td>2014</td>\n",
              "      <td>76</td>\n",
              "      <td>1498920</td>\n",
              "      <td>5.1</td>\n",
              "    </tr>\n",
              "    <tr>\n",
              "      <th>293</th>\n",
              "      <td>Distrito_Federal</td>\n",
              "      <td>2015</td>\n",
              "      <td>70</td>\n",
              "      <td>1533244</td>\n",
              "      <td>4.6</td>\n",
              "    </tr>\n",
              "    <tr>\n",
              "      <th>294</th>\n",
              "      <td>Distrito_Federal</td>\n",
              "      <td>2016</td>\n",
              "      <td>69</td>\n",
              "      <td>1567545</td>\n",
              "      <td>4.4</td>\n",
              "    </tr>\n",
              "    <tr>\n",
              "      <th>295</th>\n",
              "      <td>Distrito_Federal</td>\n",
              "      <td>2017</td>\n",
              "      <td>47</td>\n",
              "      <td>1601779</td>\n",
              "      <td>2.9</td>\n",
              "    </tr>\n",
              "    <tr>\n",
              "      <th>296</th>\n",
              "      <td>Distrito_Federal</td>\n",
              "      <td>2018</td>\n",
              "      <td>55</td>\n",
              "      <td>1635788</td>\n",
              "      <td>3.4</td>\n",
              "    </tr>\n",
              "  </tbody>\n",
              "</table>\n",
              "</div>"
            ],
            "text/plain": [
              "                  ufs   ano  mortes  população  tx_regional_homicidios\n",
              "292  Distrito_Federal  2014      76    1498920                     5.1\n",
              "293  Distrito_Federal  2015      70    1533244                     4.6\n",
              "294  Distrito_Federal  2016      69    1567545                     4.4\n",
              "295  Distrito_Federal  2017      47    1601779                     2.9\n",
              "296  Distrito_Federal  2018      55    1635788                     3.4"
            ]
          },
          "metadata": {
            "tags": []
          },
          "execution_count": 23
        }
      ]
    },
    {
      "cell_type": "markdown",
      "metadata": {
        "id": "lMCKfE3j_6cB",
        "colab_type": "text"
      },
      "source": [
        "**Vamos então observar os dados dessas ufs. Intuitivamente, sabemos que ao longo da série alguns estados apresentam quedas da taxa de feminicidio, enquanto outros apresentam aumentos significativos. Através de gráficos, vamos então  visualizar  o comportamento dessas variáveis ao longo desses 10 anos.** \n",
        "\n",
        "**Para melhor visualização desses gráficos, vamos separar os dados por região e observar as tendências.**"
      ]
    },
    {
      "cell_type": "markdown",
      "metadata": {
        "id": "JuaO2_M_K7ur",
        "colab_type": "text"
      },
      "source": [
        "**Agrupando dados por região**\n",
        "\n",
        "**- Lançando mão do conceito de tabela verdade, agruparemos em uma variável os dados das uf's pertencentes cada uma a sua respectiva região.**\n",
        "\n",
        "**- Por exemplo: para a região norte, criarei uma variável que conterá todos os dados de cada estado da região norte, e assim sucessivamente.**"
      ]
    },
    {
      "cell_type": "code",
      "metadata": {
        "id": "hiebgAlEUJoL",
        "colab_type": "code",
        "colab": {}
      },
      "source": [
        "#'tx_norte' ira agregar os dados das unidades federativas da região Norte.\n",
        "tx_norte=dados_ufs[(dados_ufs.ufs=='Rondonia')|(dados_ufs.ufs=='Acre')|(dados_ufs.ufs=='Roraima')|\n",
        "                   (dados_ufs.ufs=='Tocantins')|\n",
        "                   (dados_ufs.ufs=='Amazonas')|(dados_ufs.ufs=='Para')|(dados_ufs.ufs=='Amapa')]\n",
        "\n",
        "#'tx_nordeste' ira agregar os dados das unidades federativas da região Nordeste\n",
        "tx_nordeste=dados_ufs[(dados_ufs.ufs=='Bahia')|(dados_ufs.ufs=='Ceara')|(dados_ufs.ufs=='Sergipe')|\n",
        "                      (dados_ufs.ufs=='Alagoas')|(dados_ufs.ufs=='Paraiba')|(dados_ufs.ufs=='Pernambuco')|\n",
        "                      (dados_ufs.ufs=='Piaui')|(dados_ufs.ufs=='Rio_Grande_do_Norte')|(dados_ufs.ufs=='Maranhão')]\n",
        "\n",
        "#'tx_sudeste' ira agregar os dados das unidades federativas da região Sudeste.\n",
        "tx_sudeste=dados_ufs[(dados_ufs.ufs=='Minas_Gerais')|(dados_ufs.ufs=='São_Paulo')|\n",
        "                     (dados_ufs.ufs=='Rio_de_Janeiro')|(dados_ufs.ufs=='Espirito_Santo')]\n",
        "\n",
        "#'tx_sul' irá agregar os dados das unidades federativas da região sul.\n",
        "tx_sul=dados_ufs[(dados_ufs.ufs=='Rio_Grande_do_Sul')|(dados_ufs.ufs=='Parana')|(dados_ufs.ufs=='Santa_Catarina')]\n",
        "\n",
        "#'tx_centro_oeste' irá agregar os dados das unidades federativas da regiaão Centro Oeste.\n",
        "tx_centro_oeste=dados_ufs[(dados_ufs.ufs=='Mato_Grosso')|(dados_ufs.ufs=='Mato_Grosso_do_Sul')|\n",
        "                          (dados_ufs.ufs=='Goias')|(dados_ufs.ufs=='Distrito_Federal')]"
      ],
      "execution_count": 24,
      "outputs": []
    },
    {
      "cell_type": "markdown",
      "metadata": {
        "id": "4RVXkKtQLsa9",
        "colab_type": "text"
      },
      "source": [
        "#**-Visualização gráfica.**\n",
        "\n",
        "**- Inicialmente, para atribuir a cada variável y os valores das taxas de feminicídio e desse modo iniciar a plotagem dos gráficos, optei pelo método LOC (location). Logo, fora necessário usar como indexadores do DATASET os próprios nomes das unidades federativas de cada região, tal qual visto no codigo abaixo.**"
      ]
    },
    {
      "cell_type": "code",
      "metadata": {
        "id": "wIUA0FyTJ7lv",
        "colab_type": "code",
        "colab": {
          "base_uri": "https://localhost:8080/",
          "height": 651
        },
        "outputId": "cb146c48-8276-404a-94d8-74fdf22118b2"
      },
      "source": [
        "#alterando os indexadores de cada variável criada no código anterior; os indexadores serão os próprios nomes das unidades federativas\n",
        "tx_norte=tx_norte.set_index(['ufs'])\n",
        "tx_nordeste=tx_nordeste.set_index(['ufs'])\n",
        "tx_sudeste=tx_sudeste.set_index(['ufs'])\n",
        "tx_sul=tx_sul.set_index(['ufs'])\n",
        "tx_centro_oeste=tx_centro_oeste.set_index(['ufs'])\n",
        "\n",
        "#visualizando um DataSet qualquer de forma a observar o novo indexador.\n",
        "tx_nordeste.head(20)"
      ],
      "execution_count": 25,
      "outputs": [
        {
          "output_type": "execute_result",
          "data": {
            "text/html": [
              "<div>\n",
              "<style scoped>\n",
              "    .dataframe tbody tr th:only-of-type {\n",
              "        vertical-align: middle;\n",
              "    }\n",
              "\n",
              "    .dataframe tbody tr th {\n",
              "        vertical-align: top;\n",
              "    }\n",
              "\n",
              "    .dataframe thead th {\n",
              "        text-align: right;\n",
              "    }\n",
              "</style>\n",
              "<table border=\"1\" class=\"dataframe\">\n",
              "  <thead>\n",
              "    <tr style=\"text-align: right;\">\n",
              "      <th></th>\n",
              "      <th>ano</th>\n",
              "      <th>mortes</th>\n",
              "      <th>população</th>\n",
              "      <th>tx_regional_homicidios</th>\n",
              "    </tr>\n",
              "    <tr>\n",
              "      <th>ufs</th>\n",
              "      <th></th>\n",
              "      <th></th>\n",
              "      <th></th>\n",
              "      <th></th>\n",
              "    </tr>\n",
              "  </thead>\n",
              "  <tbody>\n",
              "    <tr>\n",
              "      <th>Alagoas</th>\n",
              "      <td>2008</td>\n",
              "      <td>83</td>\n",
              "      <td>1618624</td>\n",
              "      <td>5.1</td>\n",
              "    </tr>\n",
              "    <tr>\n",
              "      <th>Alagoas</th>\n",
              "      <td>2009</td>\n",
              "      <td>109</td>\n",
              "      <td>1634511</td>\n",
              "      <td>6.7</td>\n",
              "    </tr>\n",
              "    <tr>\n",
              "      <th>Alagoas</th>\n",
              "      <td>2010</td>\n",
              "      <td>134</td>\n",
              "      <td>1649639</td>\n",
              "      <td>8.1</td>\n",
              "    </tr>\n",
              "    <tr>\n",
              "      <th>Alagoas</th>\n",
              "      <td>2011</td>\n",
              "      <td>138</td>\n",
              "      <td>1664044</td>\n",
              "      <td>8.3</td>\n",
              "    </tr>\n",
              "    <tr>\n",
              "      <th>Alagoas</th>\n",
              "      <td>2012</td>\n",
              "      <td>133</td>\n",
              "      <td>1677754</td>\n",
              "      <td>7.9</td>\n",
              "    </tr>\n",
              "    <tr>\n",
              "      <th>Alagoas</th>\n",
              "      <td>2013</td>\n",
              "      <td>142</td>\n",
              "      <td>1690793</td>\n",
              "      <td>8.4</td>\n",
              "    </tr>\n",
              "    <tr>\n",
              "      <th>Alagoas</th>\n",
              "      <td>2014</td>\n",
              "      <td>127</td>\n",
              "      <td>1703206</td>\n",
              "      <td>7.5</td>\n",
              "    </tr>\n",
              "    <tr>\n",
              "      <th>Alagoas</th>\n",
              "      <td>2015</td>\n",
              "      <td>95</td>\n",
              "      <td>1715038</td>\n",
              "      <td>5.5</td>\n",
              "    </tr>\n",
              "    <tr>\n",
              "      <th>Alagoas</th>\n",
              "      <td>2016</td>\n",
              "      <td>100</td>\n",
              "      <td>1726284</td>\n",
              "      <td>5.8</td>\n",
              "    </tr>\n",
              "    <tr>\n",
              "      <th>Alagoas</th>\n",
              "      <td>2017</td>\n",
              "      <td>108</td>\n",
              "      <td>1736945</td>\n",
              "      <td>6.2</td>\n",
              "    </tr>\n",
              "    <tr>\n",
              "      <th>Alagoas</th>\n",
              "      <td>2018</td>\n",
              "      <td>68</td>\n",
              "      <td>1747057</td>\n",
              "      <td>3.9</td>\n",
              "    </tr>\n",
              "    <tr>\n",
              "      <th>Maranhão</th>\n",
              "      <td>2008</td>\n",
              "      <td>81</td>\n",
              "      <td>3242664</td>\n",
              "      <td>2.5</td>\n",
              "    </tr>\n",
              "    <tr>\n",
              "      <th>Maranhão</th>\n",
              "      <td>2009</td>\n",
              "      <td>84</td>\n",
              "      <td>3282860</td>\n",
              "      <td>2.6</td>\n",
              "    </tr>\n",
              "    <tr>\n",
              "      <th>Maranhão</th>\n",
              "      <td>2010</td>\n",
              "      <td>117</td>\n",
              "      <td>3321369</td>\n",
              "      <td>3.5</td>\n",
              "    </tr>\n",
              "    <tr>\n",
              "      <th>Maranhão</th>\n",
              "      <td>2011</td>\n",
              "      <td>130</td>\n",
              "      <td>3358011</td>\n",
              "      <td>3.9</td>\n",
              "    </tr>\n",
              "    <tr>\n",
              "      <th>Maranhão</th>\n",
              "      <td>2012</td>\n",
              "      <td>110</td>\n",
              "      <td>3392798</td>\n",
              "      <td>3.2</td>\n",
              "    </tr>\n",
              "    <tr>\n",
              "      <th>Maranhão</th>\n",
              "      <td>2013</td>\n",
              "      <td>128</td>\n",
              "      <td>3425875</td>\n",
              "      <td>3.7</td>\n",
              "    </tr>\n",
              "    <tr>\n",
              "      <th>Maranhão</th>\n",
              "      <td>2014</td>\n",
              "      <td>152</td>\n",
              "      <td>3457277</td>\n",
              "      <td>4.4</td>\n",
              "    </tr>\n",
              "    <tr>\n",
              "      <th>Maranhão</th>\n",
              "      <td>2015</td>\n",
              "      <td>149</td>\n",
              "      <td>3487068</td>\n",
              "      <td>4.3</td>\n",
              "    </tr>\n",
              "    <tr>\n",
              "      <th>Maranhão</th>\n",
              "      <td>2016</td>\n",
              "      <td>158</td>\n",
              "      <td>3515090</td>\n",
              "      <td>4.5</td>\n",
              "    </tr>\n",
              "  </tbody>\n",
              "</table>\n",
              "</div>"
            ],
            "text/plain": [
              "           ano  mortes  população  tx_regional_homicidios\n",
              "ufs                                                      \n",
              "Alagoas   2008      83    1618624                     5.1\n",
              "Alagoas   2009     109    1634511                     6.7\n",
              "Alagoas   2010     134    1649639                     8.1\n",
              "Alagoas   2011     138    1664044                     8.3\n",
              "Alagoas   2012     133    1677754                     7.9\n",
              "Alagoas   2013     142    1690793                     8.4\n",
              "Alagoas   2014     127    1703206                     7.5\n",
              "Alagoas   2015      95    1715038                     5.5\n",
              "Alagoas   2016     100    1726284                     5.8\n",
              "Alagoas   2017     108    1736945                     6.2\n",
              "Alagoas   2018      68    1747057                     3.9\n",
              "Maranhão  2008      81    3242664                     2.5\n",
              "Maranhão  2009      84    3282860                     2.6\n",
              "Maranhão  2010     117    3321369                     3.5\n",
              "Maranhão  2011     130    3358011                     3.9\n",
              "Maranhão  2012     110    3392798                     3.2\n",
              "Maranhão  2013     128    3425875                     3.7\n",
              "Maranhão  2014     152    3457277                     4.4\n",
              "Maranhão  2015     149    3487068                     4.3\n",
              "Maranhão  2016     158    3515090                     4.5"
            ]
          },
          "metadata": {
            "tags": []
          },
          "execution_count": 25
        }
      ]
    },
    {
      "cell_type": "markdown",
      "metadata": {
        "id": "0aqx90ulz0Lx",
        "colab_type": "text"
      },
      "source": [
        "#**Plotando os gráficos.**\n",
        "\n",
        "**-Os código abaixos irão plotar os gráficos de cada região e vão seguir esta ordem:**\n",
        "\n",
        "**-Se iniciam pela determinação do eixo x: os anos de observação deste trabalho.** \n",
        "\n",
        "**-Em seguida, através do metodo LOC - como visto anteriormente, são atribuidas as variaveis dependentes y's as taxas de feminicidio de cada estado, o que somará n diferentes tipos de valores para o eixo Y, sendo n igual ao número de estados da região.**\n",
        "\n",
        "**-O próximo passo foi escolher as medidas de cada gráfico e o espaçamento entre cada um deles.**\n",
        "\n",
        "**-O passo final foi a codificação dos n gráficos de cada estado de cada região e que se referem ao comportamento das taxas de feminicidio de cada um deles ao longo da série.**"
      ]
    },
    {
      "cell_type": "markdown",
      "metadata": {
        "id": "QoEr-NfLvyWs",
        "colab_type": "text"
      },
      "source": [
        "**Região Norte: Na subplotagem, optei por dividir o espaço para a geração dos gráficos em 9 quadrantes distribuidos em 3 linhas e 3 colunas.** "
      ]
    },
    {
      "cell_type": "code",
      "metadata": {
        "id": "zavureUFjZ_9",
        "colab_type": "code",
        "colab": {
          "base_uri": "https://localhost:8080/",
          "height": 621
        },
        "outputId": "213e6c2d-78d1-42f6-c957-1df96b69896f"
      },
      "source": [
        "#eixo x: os anos da série dos dados\n",
        "x=[2008,2009,2010,2011,2012,2013,2014,2015,2016,2017,2018]\n",
        "\n",
        "#eixo Y: sete valores para o eixo, que correspondem aos sete estados da região norte.\n",
        "y1=tx_norte.loc['Acre','tx_regional_homicidios']\n",
        "y2=tx_norte.loc['Amapa','tx_regional_homicidios']\n",
        "y3=tx_norte.loc['Amazonas','tx_regional_homicidios']\n",
        "y4=tx_norte.loc['Para','tx_regional_homicidios']\n",
        "y5=tx_norte.loc['Rondonia','tx_regional_homicidios']\n",
        "y6=tx_norte.loc['Roraima','tx_regional_homicidios']\n",
        "y7=tx_norte.loc['Tocantins','tx_regional_homicidios']\n",
        "\n",
        "##definindo a largura e altura de cada gráfico, bem como o espaçamento lateral e horizontal entre cada um deles. \n",
        "figura=plt.figure(figsize=(14,10))\n",
        "figura.subplots_adjust(hspace = 0.6,wspace = 0.4)\n",
        "\n",
        "\n",
        "#plotagem de cada um dos sete gráficos\n",
        "figura.add_subplot(3,3,1)\n",
        "plt.plot(x,y1,marker='^')\n",
        "plt.title('Acre')\n",
        "plt.xlabel('Anos')\n",
        "plt.ylabel('Taxa de feminicidio')\n",
        "\n",
        "figura.add_subplot(3,3,2)\n",
        "plt.plot(x,y2,marker='^')\n",
        "plt.title('Amapá')\n",
        "plt.xlabel('Anos')\n",
        "\n",
        "figura.add_subplot(3,3,3)\n",
        "plt.plot(x,y3,marker='^')\n",
        "plt.title('Amazonas')\n",
        "plt.xlabel('Anos')\n",
        "\n",
        "figura.add_subplot(3,3,4)\n",
        "plt.plot(x,y4,marker='^')\n",
        "plt.title('Pará')\n",
        "plt.xlabel('Anos')\n",
        "plt.ylabel('Taxa de feminicidio')\n",
        "\n",
        "figura.add_subplot(3,3,5)\n",
        "plt.plot(x,y5,marker='^')\n",
        "plt.title('Rondônia')\n",
        "plt.xlabel('Anos')\n",
        "\n",
        "figura.add_subplot(3,3,6)\n",
        "plt.plot(x,y6,marker='^')\n",
        "plt.title('Roraima')\n",
        "\n",
        "figura.add_subplot(3,3,7)\n",
        "plt.plot(x,y7,marker='^')\n",
        "plt.title('Tocantins')\n",
        "plt.xlabel('Anos')\n",
        "plt.ylabel('Taxa de feminicidio')\n",
        "\n",
        "plt.show()\n"
      ],
      "execution_count": 26,
      "outputs": [
        {
          "output_type": "display_data",
          "data": {
            "image/png": "[encoded data removed]",
            "text/plain": [
              "<Figure size 1008x720 with 7 Axes>"
            ]
          },
          "metadata": {
            "tags": [],
            "needs_background": "light"
          }
        }
      ]
    },
    {
      "cell_type": "markdown",
      "metadata": {
        "id": "H5RVRQxg-rpF",
        "colab_type": "text"
      },
      "source": [
        "**-Observando os gráficos, vemos que em em cinco estados da região norte houve aumento da taxa de feminicídio no periodo entre 2008 e 2018.**\n",
        "\n",
        "**-O destaque vai para o estado de Roraima, onde se observa uma variação brusca entre 2008 e 2018; a taxa passa de aproximadamente 7.0 mortes para cada 100 mil mulheres em 2008 para aproximadamente 20.0 mulheres assassinadas a cada 100 mil no ano de 2018.**\n",
        "\n",
        "**-Em seguida temos os estados de Pará e Acre com as maiores variações positivas e com as maiores taxas em 2018. Em 2008 o estado do Pará apresentou uma taxa de aproximadamente 4.0 homicídios de mulheres a cada 100 mil, mas no ano de 2018 essa taxa duplica e alcança aproximadamente 8.0 dessas mortes a cada 100 mil mulheres, sendo que a partir do ano de 2013 é expressivamente observável essa tendência de aumento da taxa no estado. Uma variação decenal semelhante ocorreu no estado Acre: a taxa em 2018 de aproximadamente 8.5 mortes a cada 100 mil mulheres alcança o dobro da observada em 2008 – 4.0 mortes a cada 100 mil mulheres, com uma tendência de elevação observável a partir do ano de 2015, logo após uma tendência de queda anteriormente observada.**\n",
        "\n",
        "**-Os estados do Amazonas e Tocantins também apresentaram elevação das taxas ao longo da série. Em amazonas a variação é mais expressiva: a taxa duplica, indo de aproximadamente 3.5 mortes de mulheres a cada 100mil em 2008 para aproximadamente 6.5 mortes a cada 100 mil mulheres em 2018, alcançando o maior registro dessas mortes. Em Tocantins, a mesma taxa alcança um pouco menos de 6.0 mortes a cada 100mil mulheres em 2018, ante aproximadamente 3.0 das mesmas mortes em 2008, porém o maior valor observado no estado é no ano de 2012, no qual a taxa se situou em aproximadamente 7.0 homicidios violentos de mulheres a cada 100 mil mulheres.**\n",
        "\n",
        "**-Em Rondônia e no Amapá as taxas em 2018 apresentaram um valor menor que o observado em 2008. No estado de Amapá, após uma tendência de elevação da taxa nos primeiros anos da série, com o maior valor observado no ano de 2017 de aproximadamente 7.0 homicídios violentos de mulheres a cada 100 mil mulheres, a taxa se situou em 3.5 homicídios violentos de mulheres a cada 100 mil mulheres em 2018, ante uma taxa de 4.0 para cem mil mulheres em 2008. Em Rondônia a diminuição é mais branda; apesar de coexistir ao longo da série tendências de elevação, a taxa em 2018 alcança um valor menor que o observado em 2008. De aproximadamente 4.8 mortes para aproximadamente 4.5 mortes a cada 100 mil mulheres; o maior valor registrado ocorreu no ano de 2015, ano no qual a taxa se situou em aproximadamente 7.5 mortes violentas a cada 100 mil mulheres.**"
      ]
    },
    {
      "cell_type": "markdown",
      "metadata": {
        "id": "5LsWiWx3CfjV",
        "colab_type": "text"
      },
      "source": [
        "**Região Nordeste.**\n",
        "\n",
        "**Novamente optei por dividir o espaço para a geração dos graficos em 9 quadrantes distribuidos em 3 linhas e 3 colunas.**"
      ]
    },
    {
      "cell_type": "code",
      "metadata": {
        "id": "nsDMPAb645qa",
        "colab_type": "code",
        "colab": {
          "base_uri": "https://localhost:8080/",
          "height": 730
        },
        "outputId": "6a6dffb7-91bc-4a7b-e244-5b42635b5aa0"
      },
      "source": [
        "#obs: o eixo X ja fora definido no código anterior\n",
        "\n",
        "#eixo Y: nove valores para o eixo que correspondem aos nove estados da região nordeste.\n",
        "y1=tx_nordeste.loc['Alagoas','tx_regional_homicidios']\n",
        "y2=tx_nordeste.loc['Bahia','tx_regional_homicidios']\n",
        "y3=tx_nordeste.loc['Ceara','tx_regional_homicidios']\n",
        "y4=tx_nordeste.loc['Maranhão','tx_regional_homicidios']\n",
        "y5=tx_nordeste.loc['Paraiba','tx_regional_homicidios']\n",
        "y6=tx_nordeste.loc['Pernambuco','tx_regional_homicidios']\n",
        "y7=tx_nordeste.loc['Piaui','tx_regional_homicidios']\n",
        "y8=tx_nordeste.loc['Rio_Grande_do_Norte','tx_regional_homicidios']\n",
        "y9=tx_nordeste.loc['Sergipe','tx_regional_homicidios']\n",
        "\n",
        "\n",
        "#definindo a largura e altura de cada gráfico, bem como o espaçamento lateral e horizontal entre cada um deles. \n",
        "figura=plt.figure(figsize=(15,12))\n",
        "figura.subplots_adjust(hspace = 0.6,wspace = 0.4)\n",
        "\n",
        "#subplotagem de cada um dos nove gráficos\n",
        "figura.add_subplot(3,3,1)\n",
        "plt.plot(x,y1,marker='^')\n",
        "plt.title('Alagoas')\n",
        "plt.xlabel('Anos')\n",
        "plt.ylabel('Taxa de feminicidio')\n",
        "\n",
        "figura.add_subplot(3,3,2)\n",
        "plt.plot(x,y2,marker='^')\n",
        "plt.title('Bahia')\n",
        "plt.xlabel('Anos')\n",
        "plt.ylabel('Taxa de feminicidio')\n",
        "\n",
        "figura.add_subplot(3,3,3)\n",
        "plt.plot(x,y3,marker='^')\n",
        "plt.title('Ceara')\n",
        "plt.xlabel('Anos')\n",
        "plt.ylabel('Taxa de feminicidio')\n",
        "\n",
        "figura.add_subplot(3,3,4)\n",
        "plt.plot(x,y4,marker='^')\n",
        "plt.title('Maranhão')\n",
        "plt.xlabel('Anos')\n",
        "plt.ylabel('Taxa de Feminicidio')\n",
        "\n",
        "figura.add_subplot(3,3,5)\n",
        "plt.plot(x,y5,marker='^')\n",
        "plt.title('Paraiba')\n",
        "plt.xlabel('Anos')\n",
        "plt.ylabel('Taxa de feminicidio')\n",
        "\n",
        "figura.add_subplot(3,3,6)\n",
        "plt.plot(x,y6,marker='^')\n",
        "plt.title('Pernambuco')\n",
        "plt.xlabel('Anos')\n",
        "plt.ylabel('Taxa de feminicidio')\n",
        "\n",
        "figura.add_subplot(3,3,7)\n",
        "plt.plot(x,y7,marker='^')\n",
        "plt.title('Piaui')\n",
        "plt.xlabel('Anos')\n",
        "plt.ylabel('Taxa de Feminicidio')\n",
        "\n",
        "figura.add_subplot(3,3,8)\n",
        "plt.plot(x,y8,marker='^')\n",
        "plt.title('Rio Grande do Norte')\n",
        "plt.xlabel('Anos')\n",
        "plt.ylabel('Taxa de feminicidio')\n",
        "\n",
        "figura.add_subplot(3,3,9)\n",
        "plt.plot(x,y9,marker='^')\n",
        "plt.title('Sergipe')\n",
        "plt.xlabel('Anos')\n",
        "plt.ylabel('Taxa de feminicidio')\n",
        "\n",
        "plt.show()"
      ],
      "execution_count": 29,
      "outputs": [
        {
          "output_type": "display_data",
          "data": {
            "image/png": "[encoded data removed]",
            "text/plain": [
              "<Figure size 1080x864 with 9 Axes>"
            ]
          },
          "metadata": {
            "tags": [],
            "needs_background": "light"
          }
        }
      ]
    },
    {
      "cell_type": "markdown",
      "metadata": {
        "id": "6PhSF1ysh_ol",
        "colab_type": "text"
      },
      "source": [
        "**No nordeste brasileiro os estados de Alagoas, Paraíba, Pernambuco e Sergipe apresentaram em 2018 uma taxa menor que a observada em 2008, enquanto que nos estados da Bahia, Ceara, Maranhão, Rio Grande do Norte e Piauí ocorreu o inverso.** \n",
        "\n",
        "**O estado do Ceará registrou a maior taxa de homicídios de mulheres a cada 100 mil mulheres bem como a maior variação decenal da mesma. Em 2008 fora registrada uma taxa de aproximadamente 3.0 homicídios violentos de mulheres a cada 100 mil mulheres, e no ano de 2018 essa taxa subiu para aproximadamente 10 mortes a cada 100 mil mulheres. A tendência de elevação é constante até o ano de 2014, a partir de então é registrado pelos dois anos seguintes duas leves quedas anuais e novamente uma elevação constante até o ano de 2018.**\n",
        "\n",
        "**Na Bahia a taxa vai de aproximadamente 4.0 homicídios de mulheres a cada 100 mil mulheres em 2008 para um registro de aproximadamente 5.3 dos mesmos tipos de homicídios em 2018; porém o maior registro no estado ocorreu no ano de 2017, ano em que a taxa alcançou 6.5 homicídios a cada 100 mil mulheres. No Maranhão foram registradas 2.5 homicídios femininos a cada 100 mil mulheres em 2008 e aproximadamente 3.4 mortes a cada 100 mil mulheres em 2018; o maior registro ocorreu no ano de 2016, uma taxa de 4.5 mortes a cada 100 mil mulheres. No Rio Grande do Norte e no Piauí a elevação é mais branda. No primeiro caso a taxa vai de aproximadamente 3.8 em 2008 para aproximadamente 5.5 em 2018. No Piauí a taxa vai de 2.5 em 2008 para aproximadamente 3.2 em 2018.**\n",
        "\n",
        "**Em Alagoas, apesar de até o ano de 2013 ocorrer uma tendência de elevação da taxa de feminicídio, o estado registrou em 2018 uma taxa de aproximadamente 4.0 homicídios violentos de mulheres a cada 100 mil mulheres, um menor valor que o registrado em 2008 – uma ocorrência de 5.0 homicídios violentos a cada 100 mil mulheres. No estado da Paraíba ocorreu uma trajetória semelhante. Há até 2011 uma tendência de elevação da taxa de feminicídio para cada 100 mil mulheres, mas a partir do ano seguinte há uma tendência inversa e o estado registra em 2018 uma taxa menor que a observada em 20018 – aproximadamente 4.0 homicídios a cada 100 mil mulheres, ante aproximadamente 4.5 homicídios a cada 100 mil mulheres em 2008.**\n",
        "\n",
        "**No estado do Pernambuco não ocorreu uma tendência bem definida. A taxa de 2008 registra aproximadamente 6.5 homicídios violentos de mulheres a cada 100 mil mulheres, atinge o seu menor valor em 2012 de 4.5 mortes a cada 100 mil mulheres e apresenta em 2018 uma taxa de 5.0 homicídios de mulheres por 100 mil mulheres, um valor menor que o observado em 2008. No Estado do Sergipe, após uma série de variações que tenderam mais a um aumento da taxa em dez anos, em 2018 a taxa registrada foi de 3.0 mortes a cada 100 mil mulheres, a mesma taxa registrada em 2008, sendo que o maior valor registrado fora no ano de 2017 – aproximadamente 6.8 mortes a cada 100 mil mulheres.**\n"
      ]
    },
    {
      "cell_type": "markdown",
      "metadata": {
        "id": "uGivlJfGrldC",
        "colab_type": "text"
      },
      "source": [
        "**Sudeste**\n",
        "\n",
        "**Para os quatro estados na região sudeste, foram utilizados quatro quadrantes com duas linhas e duas colunas para a subplotagem dos gráficos.**"
      ]
    },
    {
      "cell_type": "code",
      "metadata": {
        "id": "DgHlwHNuIs6X",
        "colab_type": "code",
        "colab": {
          "base_uri": "https://localhost:8080/",
          "height": 621
        },
        "outputId": "d0c90a7f-5c09-4c09-8c6b-fa6594aa7079"
      },
      "source": [
        "#Quatro valores diferentes para o eixo Y, que correspondem aos dados dos quatro estados da região sudeste.\n",
        "y1=tx_sudeste.loc['Espirito_Santo','tx_regional_homicidios']\n",
        "y2=tx_sudeste.loc['Minas_Gerais','tx_regional_homicidios']\n",
        "y3=tx_sudeste.loc['Rio_de_Janeiro','tx_regional_homicidios']\n",
        "y4=tx_sudeste.loc['São_Paulo','tx_regional_homicidios']\n",
        "\n",
        "#definindo a largura e altura de cada gráfico, bem como o espaçamento lateral e horizontal entre cada um deles. \n",
        "figura=plt.figure(figsize=(10,10))\n",
        "figura.subplots_adjust(hspace=0.4,wspace=0.4)\n",
        "\n",
        "#subplotagem de cada um dos quatro gráficos\n",
        "figura.add_subplot(2,2,1)\n",
        "plt.plot(x,y1,marker='^')\n",
        "plt.title('Espirito Santo')\n",
        "plt.xlabel('Anos')\n",
        "plt.ylabel('Taxa de Feminicidio')\n",
        "\n",
        "figura.add_subplot(2,2,2)\n",
        "plt.plot(x,y2,marker='^')\n",
        "plt.title('Minas Gerais')\n",
        "plt.xlabel('Anos')\n",
        "plt.ylabel('Taxa de feminicidio')\n",
        "\n",
        "figura.add_subplot(2,2,3)\n",
        "plt.plot(x,y3,marker='^')\n",
        "plt.title('Rio de Janeiro')\n",
        "plt.xlabel('Anos')\n",
        "plt.ylabel('Taxa de feminicidio')\n",
        "\n",
        "figura.add_subplot(2,2,4)\n",
        "plt.plot(x,y4,marker='^')\n",
        "plt.title('São Paulo')\n",
        "plt.xlabel('Anos')\n",
        "plt.ylabel('Taxa de feminicidio')\n",
        "\n",
        "plt.show()"
      ],
      "execution_count": 30,
      "outputs": [
        {
          "output_type": "display_data",
          "data": {
            "image/png": "[encoded data removed]",
            "text/plain": [
              "<Figure size 720x720 with 4 Axes>"
            ]
          },
          "metadata": {
            "tags": [],
            "needs_background": "light"
          }
        }
      ]
    },
    {
      "cell_type": "markdown",
      "metadata": {
        "id": "Tv9SD25O95kL",
        "colab_type": "text"
      },
      "source": [
        "**A região sudeste é a única na qual todos os estados apresentaram uma variação negativa da taxa de homicídio na série decenal. No Espirito Santo a taxa é reduzida de aproximadamente 10.5 homicídios de mulheres a cada 1000 mil em 2008 para aproximadamente 5.0 mortes em 2018. A tendência de diminuição dessa taxa é observável logo após o ano de 2009. Em São Paulo essa tendência fora continuamente semelhante. O estado apresenta em 2008 uma taxa de homicídio de 3.2 a cada 100 mil mulheres e, no ano de 2018, essa taxa chega a aproximadamente 1.8 a cada 100 mil mulheres.**\n",
        "\n",
        "**No Rio de Janeiro, mesmo após simultâneas tendências de diminuição e aumento da taxa de homicídios de mulheres a cada 100 mil, o estado registra em 2018 uma taxa menor que a registrada em 2008; 4.3 homicídios femininos a cada 100 mil mulheres ante 4.6 homicídios no primeiro ano da série. Em minas gerais, a partir do ano de 2012, no qual o estado registrou sua maior taxa ao longo da série – 4.6 homicídios de mulheres a cada 100 mil – a tendência de diminuição é quase totalmente constante e em 2018 a taxa de aproximadamente 3.2 homicídios a cada 100 mil mulheres é a menor da série; em 2008 a taxa fora de aproximadamente 3.7 mortes de mulheres a cada 100 mil.**  \n"
      ]
    },
    {
      "cell_type": "markdown",
      "metadata": {
        "id": "xRAy4GtNrpZI",
        "colab_type": "text"
      },
      "source": [
        "**Sul**\n",
        "\n",
        "**Gráficos distribuidos em três quadrantes subplotados em uma única linha.**"
      ]
    },
    {
      "cell_type": "code",
      "metadata": {
        "id": "KCaRVBSTxiSI",
        "colab_type": "code",
        "colab": {
          "base_uri": "https://localhost:8080/",
          "height": 295
        },
        "outputId": "86ac2aeb-d84e-4bfe-ea34-79a2f002014f"
      },
      "source": [
        "#eixo Y:  três diferentes valores para o eixo que correspondem aos três estados da região Sul\n",
        "y1=tx_sul.loc['Parana','tx_regional_homicidios']\n",
        "y2=tx_sul.loc['Rio_Grande_do_Sul','tx_regional_homicidios']\n",
        "y3=tx_sul.loc['Santa_Catarina','tx_regional_homicidios']\n",
        "\n",
        "#definindo a largura e altura de cada gráfico, bem como o espaçamento lateral e horizontal entre cada um deles. \n",
        "figura=plt.figure(figsize=(17,4))\n",
        "figura.subplots_adjust(wspace=0.3)\n",
        "\n",
        "#subplotagem de cada um dos três gráficos\n",
        "figura.add_subplot(1,3,1)\n",
        "plt.plot(x,y1,marker='^')\n",
        "plt.title('Paraná')\n",
        "plt.xlabel('Anos')\n",
        "plt.ylabel('Taxa de Feminicidio')\n",
        "\n",
        "figura.add_subplot(1,3,2)\n",
        "plt.plot(x,y2,marker='^')\n",
        "plt.title('Rio Grande do Sul')\n",
        "plt.xlabel('Anos')\n",
        "plt.ylabel('Taxa de feminicidio')\n",
        "\n",
        "figura.add_subplot(1,3,3)\n",
        "plt.plot(x,y3,marker='^')\n",
        "plt.title('Santa Catarina')\n",
        "plt.xlabel('Anos')\n",
        "plt.ylabel('Taxa de feminicidio')\n",
        "\n",
        "plt.show()"
      ],
      "execution_count": 31,
      "outputs": [
        {
          "output_type": "display_data",
          "data": {
            "image/png": "[encoded data removed]",
            "text/plain": [
              "<Figure size 1224x288 with 3 Axes>"
            ]
          },
          "metadata": {
            "tags": [],
            "needs_background": "light"
          }
        }
      ]
    },
    {
      "cell_type": "markdown",
      "metadata": {
        "id": "saMSP6rlHe_O",
        "colab_type": "text"
      },
      "source": [
        "**Na região Sul os estados do Paraná e Santa Catarina apresentaram uma diminuição da taxa de homicídios de mulheres a cada 100 mil mulheres, enquanto que no estado do Rio Grande do Sul houve um aumento em dez anos. No Paraná, apesar de nos primeiros anos da série existir duas tendências de elevação, a partir do ano de 2012 há uma tendência observável de diminuição da taxa nos anos posteriores. O menor registro é justamente no ano de 2018, uma taxa de aproximadamente 3.6 homicídios de mulheres a cada 100 mil mulheres; em 2008 a taxa registrada fora de aproximadamente 5.8 homicídios femininos a cada 100 mil mulheres. Em Santa Catarina, após tendências sincrônicas de elevação e diminuição da taxa de homicídios de mulheres a cada 100 mil mulheres, o registro em 2018 de 2.7 homicídios de mulheres a cada 100 mil mulheres é menor que o registro no ano de 2008 – 2.8 homicídios a cada 100 mil mulheres.**\n",
        "\n",
        "**No Rio Grande do Sul, apesar de a taxa em 2018 de aproximadamente 4.3 homicídios de mulheres a cada 100 mil mulheres não ser a maior registrada na série, ela é ainda maior que a registrada em 2008 de aproximadamente 3.9 homicídios de mulheres a cada 100 mil mulheres. A maior taxa registrada fora no ano de 2016, de aproximadamente 5.4 homicídios violentos de mulheres a cada 100 mil mulheres.** \n"
      ]
    },
    {
      "cell_type": "markdown",
      "metadata": {
        "id": "_qPEBssRrsCT",
        "colab_type": "text"
      },
      "source": [
        "**Centro Oeste**\n",
        "\n",
        "**Quatro quadrantes separados em duas linhas com duas colunas cada.**"
      ]
    },
    {
      "cell_type": "code",
      "metadata": {
        "id": "xZXjjDY8z3-G",
        "colab_type": "code",
        "colab": {
          "base_uri": "https://localhost:8080/",
          "height": 621
        },
        "outputId": "fdf0a212-cf4f-4add-f58d-b3e96de056df"
      },
      "source": [
        "#eixo Y: quatro diferentes valores para o eixo, que correspondem aos quatro estados da região centro-oeste.\n",
        "y1=tx_centro_oeste.loc['Distrito_Federal','tx_regional_homicidios']\n",
        "y2=tx_centro_oeste.loc['Goias','tx_regional_homicidios']\n",
        "y3=tx_centro_oeste.loc['Mato_Grosso','tx_regional_homicidios']\n",
        "y4=tx_centro_oeste.loc['Mato_Grosso_do_Sul','tx_regional_homicidios']\n",
        "\n",
        "#definindo a largura, altura de cada gráfico, bem como o espaçamento lateral e horizontal entre cada um deles. \n",
        "figura=plt.figure(figsize=(12,10))\n",
        "figura.subplots_adjust(hspace=0.4,wspace=0.4)\n",
        "\n",
        "figura.add_subplot(2,2,1)\n",
        "plt.plot(x,y1,marker='^')\n",
        "plt.title('Distrito Federal')\n",
        "plt.xlabel('Anos')\n",
        "plt.ylabel('Taxa de Feminicidio')\n",
        "\n",
        "\n",
        "figura.add_subplot(2,2,2)\n",
        "plt.plot(x,y2,marker='^')\n",
        "plt.title('Goias')\n",
        "plt.xlabel('Anos')\n",
        "plt.ylabel('Taxa de feminicidio')\n",
        "\n",
        "figura.add_subplot(2,2,3)\n",
        "plt.plot(x,y3,marker='^')\n",
        "plt.title('Mato Grosso')\n",
        "plt.xlabel('Anos')\n",
        "plt.ylabel('Taxa de feminicidio')\n",
        "\n",
        "figura.add_subplot(2,2,4)\n",
        "plt.plot(x,y4,marker='^')\n",
        "plt.title('Mato Grosso do Sul')\n",
        "plt.xlabel('Anos')\n",
        "plt.ylabel('Taxa de feminicidio')\n",
        "\n",
        "plt.show()"
      ],
      "execution_count": 32,
      "outputs": [
        {
          "output_type": "display_data",
          "data": {
            "image/png": "[encoded data removed]",
            "text/plain": [
              "<Figure size 864x720 with 4 Axes>"
            ]
          },
          "metadata": {
            "tags": [],
            "needs_background": "light"
          }
        }
      ]
    },
    {
      "cell_type": "markdown",
      "metadata": {
        "id": "uQ0IYpRApBoS",
        "colab_type": "text"
      },
      "source": [
        "**Na região Centro-Oeste, somente o estado de Goiás apresentou uma elevação da taxa de homicídios de mulheres nos dez anos da série, os demais estados, Distrito Federal, Mato Grosso e Mato Grosso do Sul apresentaram uma diminuição de suas taxas de homicídios. No caso de Goiás, a taxa de 2008 fora de aproximadamente 5.4 homicídios de mulheres a cada 100 mil mulheres e em 2018 essa taxa aumentou para 6.5 homicídios do mesmo tipo; o maior valor registrado no estado fora nos anos de 2013 e 2014, aproximadamente 8.4 homicídios violentos de mulheres a cada 100 mil mulheres.**\n",
        "\n",
        "**No Distrito Federal a tendência de diminuição é expressiva. A taxa em 2008 de 5.5 homicídios de mulheres a cada 100 mil mulheres inicialmente apresenta um aumento no ano de 2009, mas a partir de então há constantes diminuições. A menor taxa é registrada em 2017: aproximadamente 2.9 homicídios de mulheres a cada 100 mil mulheres e em 2018 há um leve aumento para aproximadamente 3.3 homicídios de mulheres a cada 100 mil mulheres No estado do Mato Grosso, há simultâneas tendências de elevação e diminuição da taxa de homicídios de mulheres a cada 100 mil mulheres, mas ainda assim o valor m 2018 é menor que o observado em 2008; foram aproximadamente 5.2 homicídios violentos de mulheres a cada 100 mil mulheres em 2018 ante aproximadamente 5.9 homicídios de mulheres a cada 100 mil mulheres em 2008. Em Mato Grosso do Sul a taxa em 2018 de aproximadamente 4.7 homicídios de mulheres a cada 100 mil mulheres é menor que a taxa de aproximadamente 4.9 homicídios de mulheres a cada 100 mil mulheres, a menor taxa registrada na série analisada fora no ano de 2015, aproximadamente 4.3 homicídios de mulheres a cada 100 mil mulheres.** \n"
      ]
    },
    {
      "cell_type": "markdown",
      "metadata": {
        "id": "PKJTTiRgohnq",
        "colab_type": "text"
      },
      "source": [
        "#**Estados com variação positiva e estados com variação negativa das taxas de feminicídio.**\n",
        "\n",
        "**Levando em consideração a série decenal analisada, temos então dois grupos: os estados que apresentaram uma diminuição da taxa de feminicidio ao longo da série e os estados que apresentaram uma elevação dessa mesma taxa.** \n",
        "\n",
        "**Vamos então separa-los em dois datasets:**\n",
        "\n",
        "- Para os que tiveram uma variação positiva da taxa, encontraremos os três estados com as maiores taxas de feminicidio no ano de 2018 e visualizar suas trajetórias graficamente. \n",
        "\n",
        "- Para aqueles que apresentaram uma queda da taxa, encontraremos os três estados com as menores taxas também em 2018 para desse modo fazermos graficamente a mesma visualização.\n",
        "\n",
        "\n",
        "- Doze estados apresentaram um crescimento da taxa nesses 10 anos. Lançando mão novamente do conceito de tabela da verdade, agruparemos estes estados no dataset 'ufs_variação_positiva'. \n",
        "\n",
        "- Quinze estados apresentaram uma diminuição da taxa, e da mesma forma, agruparemos tais estados em uma variável, denominada de 'ufs_variação_negativa; segue o código."
      ]
    },
    {
      "cell_type": "code",
      "metadata": {
        "id": "gWbv56ti5JPB",
        "colab_type": "code",
        "colab": {}
      },
      "source": [
        "ufs_variacao_positiva=dados_ufs[(dados_ufs.ufs=='Acre')|(dados_ufs.ufs=='Amazonas')|(dados_ufs.ufs=='Para')|\n",
        "                            (dados_ufs.ufs=='Roraima')|(dados_ufs.ufs=='Tocantins')|(dados_ufs.ufs=='Bahia')|\n",
        "                            (dados_ufs.ufs=='Ceara')|(dados_ufs.ufs=='Maranhão')|(dados_ufs.ufs=='Piaui')|\n",
        "                            (dados_ufs.ufs=='Rio_Grande_do_Norte')|(dados_ufs.ufs=='Rio_Grande_do_Sul')|\n",
        "                            (dados_ufs.ufs=='Goias')]\n",
        "ufs_variação_negativa=dados_ufs[(dados_ufs.ufs=='Rondonia')|(dados_ufs.ufs=='Amapa')|(dados_ufs.ufs=='Pernambuco')|\n",
        "                            (dados_ufs.ufs=='Sergipe')|(dados_ufs.ufs=='Paraiba')|(dados_ufs.ufs=='Alagoas')|\n",
        "                            (dados_ufs.ufs=='São_Paulo')|(dados_ufs.ufs=='Rio_de_Janeiro')|\n",
        "                            (dados_ufs.ufs=='Minas_Gerais')|(dados_ufs.ufs=='Espirito_Santo')|\n",
        "                            (dados_ufs.ufs=='Distrito_Federal')|(dados_ufs.ufs=='Mato_Grosso')|\n",
        "                            (dados_ufs.ufs=='Mato_Grosso_do_Sul')|(dados_ufs.ufs=='Parana')|\n",
        "                            (dados_ufs.ufs=='Santa_Catarina')]"
      ],
      "execution_count": 33,
      "outputs": []
    },
    {
      "cell_type": "markdown",
      "metadata": {
        "id": "GNNDZe1xVP9c",
        "colab_type": "text"
      },
      "source": [
        "**- Com os dois grupos separados, vamos então compilar somente os dados de 2018 de cada um dos grupos.**\n",
        "\n",
        "**- Então vamos ordenar essas taxas em forma descendente para os estados com variação positiva e de forma ascendente para os estados com variação negativa.**\n",
        "\n",
        "**- Dessa forma é possível identificar os três estados mais violentos em 2018 dentre os que tiveram um aumento das taxas de feminicídios e os três estados menos violentos em 2018 dentre aqueles que tiveram uma variação negativa dessa mesma taxa.**"
      ]
    },
    {
      "cell_type": "code",
      "metadata": {
        "id": "wybYPmaFk4-A",
        "colab_type": "code",
        "colab": {
          "base_uri": "https://localhost:8080/",
          "height": 245
        },
        "outputId": "813d9d04-600f-4da8-f4ba-dfd81441a8fc"
      },
      "source": [
        "#UF'S com variação positiva\n",
        "\n",
        "#filtrando somente os dados de 2018.\n",
        "maior_taxa=ufs_variacao_positiva[(ufs_variacao_positiva.ano==2018)]\n",
        "\n",
        "#indexando-os pelos nomes das uf's.\n",
        "maior_taxa=maior_taxa.set_index('ufs')\n",
        "\n",
        "#ordenando esses dados de forma descendente.\n",
        "maior_taxa.tx_regional_homicidios.sort_values(ascending=False)"
      ],
      "execution_count": 34,
      "outputs": [
        {
          "output_type": "execute_result",
          "data": {
            "text/plain": [
              "ufs\n",
              "Roraima                20.5\n",
              "Ceara                  10.3\n",
              "Acre                    8.4\n",
              "Para                    7.7\n",
              "Goias                   6.4\n",
              "Amazonas                6.2\n",
              "Tocantins               5.9\n",
              "Rio_Grande_do_Norte     5.7\n",
              "Bahia                   5.4\n",
              "Rio_Grande_do_Sul       4.4\n",
              "Maranhão                3.4\n",
              "Piaui                   3.2\n",
              "Name: tx_regional_homicidios, dtype: float64"
            ]
          },
          "metadata": {
            "tags": []
          },
          "execution_count": 34
        }
      ]
    },
    {
      "cell_type": "code",
      "metadata": {
        "id": "j3hQK-yclr5k",
        "colab_type": "code",
        "colab": {
          "base_uri": "https://localhost:8080/",
          "height": 293
        },
        "outputId": "0567551c-75cd-42e8-e9a7-413d1b3bd2d0"
      },
      "source": [
        "#UFS com variação negativa\n",
        "\n",
        "#filtrando somente os dados de 2018.\n",
        "menor_taxa=ufs_variação_negativa[(ufs_variação_negativa.ano==2018)]\n",
        "\n",
        "##indexando-os pelos nomes das uf's.\n",
        "menor_taxa=menor_taxa.set_index('ufs')\n",
        "\n",
        "#ordenando esses dados de forma ascendente\n",
        "menor_taxa.tx_regional_homicidios.sort_values()"
      ],
      "execution_count": 35,
      "outputs": [
        {
          "output_type": "execute_result",
          "data": {
            "text/plain": [
              "ufs\n",
              "São_Paulo             1.9\n",
              "Santa_Catarina        2.7\n",
              "Sergipe               3.3\n",
              "Minas_Gerais          3.3\n",
              "Distrito_Federal      3.4\n",
              "Parana                3.6\n",
              "Amapa                 3.7\n",
              "Alagoas               3.9\n",
              "Paraiba               4.0\n",
              "Rio_de_Janeiro        4.3\n",
              "Rondonia              4.7\n",
              "Mato_Grosso_do_Sul    4.7\n",
              "Espirito_Santo        4.9\n",
              "Pernambuco            5.0\n",
              "Mato_Grosso           5.3\n",
              "Name: tx_regional_homicidios, dtype: float64"
            ]
          },
          "metadata": {
            "tags": []
          },
          "execution_count": 35
        }
      ]
    },
    {
      "cell_type": "markdown",
      "metadata": {
        "id": "elWFyhfdYX90",
        "colab_type": "text"
      },
      "source": [
        "**- Do grupo de estados que apresentaram elevação das taxas de feminicídio, temos que em 2018, as três ufs mais violentas para as mulheres foram, de forma decrescente: Roraima, Ceará e o Acre. Como visto, a taxa em Roraima alcançou 20 homicídios violentos de mulheres a cada 100 mil; no estado do Ceará essa taxa chegou a 10 mortes; e em Acre aproximadamente 8.0 mulheres a cada 100 mil morreram de forma violenta.** \n",
        "\n",
        "**- No grupo de estados com diminuições dessas taxas ao longo da série, as três menores taxas em 2018 pertenceram, de forma ascendente, aos estados de São Paulo - 1.9 homicídio violento feminino a cada 100 mil mulheres, Santa Catarina - 2.7 mortes do mesmo tipo - e Sergipe - 3.3 homicídios violentos a cada 100 mil mulheres.**\n",
        "\n",
        "**- Vamos então a plotagem dos gráficos. Primeiro a visualização das trajetórias das taxas de homicídios dos três estados mais violentos em 2018, em seguida a visualização das trajetórias das mesmas taxas dos estados menos violentos.**"
      ]
    },
    {
      "cell_type": "markdown",
      "metadata": {
        "id": "buWZ9MptGGf6",
        "colab_type": "text"
      },
      "source": [
        "**Avaliando a trajetória das taxas de feminicídios destes estados em gráficos múltiplos.**\n",
        "\n",
        "**Estados que apresentaram variação positiva.**"
      ]
    },
    {
      "cell_type": "code",
      "metadata": {
        "id": "kmUyxsJqBWDO",
        "colab_type": "code",
        "colab": {
          "base_uri": "https://localhost:8080/",
          "height": 522
        },
        "outputId": "bf8004ff-0499-430d-f1fe-c01ec5b0aa17"
      },
      "source": [
        "#definindo os valores dos eixo X e Y.\n",
        "x=[2008,2009,2010,2011,2012,2013,2014,2015,2016,2017,2018]\n",
        "y1=tx_norte.loc['Roraima','tx_regional_homicidios']\n",
        "y2=tx_norte.loc['Acre','tx_regional_homicidios']\n",
        "y3=tx_nordeste.loc['Ceara','tx_regional_homicidios']\n",
        "\n",
        "#plotando o gráfico de multilinhas - x são os anos de estudo dos dados; \n",
        "#para cada um deles teremos tres valores correspondentes no eixo y, que se referem cada linha a um estado.\n",
        "figura= plt.figure(figsize= (11,7.8))\n",
        "figura= plt.plot(x,y1,ls='-',label='Roraima')\n",
        "figura= plt.plot(x,y2,ls='-',label='Acre')\n",
        "figura= plt.plot(x,y3,ls='-',label='Ceara')\n",
        "\n",
        "#plotando uma linha horizontal com a média naciopnal dos homicidios de mulheres a cada 100 mil na série analisada, visando efeitos de comparação.\n",
        "plt.axhline(y=dados_brasil.tx_nacional_homicidios.mean(), color='r', linestyle='-',label='Média Brasil')\n",
        "\n",
        "#Definindo os titulos do gráfico, eixo X e eixo Y.\n",
        "plt.title('Evolução das taxas de feminicidio das tres ufs com maior taxa em 2018',fontsize=18)\n",
        "plt.xlabel('Anos',fontsize=15, labelpad= 15)\n",
        "plt.ylabel('Taxa de feminicidio',fontsize=15, labelpad= 15)\n",
        "plt.legend(loc=0)\n",
        "\n",
        "plt.show()\n"
      ],
      "execution_count": 39,
      "outputs": [
        {
          "output_type": "display_data",
          "data": {
            "image/png": "[encoded data removed]",
            "text/plain": [
              "<Figure size 792x561.6 with 1 Axes>"
            ]
          },
          "metadata": {
            "tags": [],
            "needs_background": "light"
          }
        }
      ]
    },
    {
      "cell_type": "markdown",
      "metadata": {
        "id": "Vq3vxcQsG-dx",
        "colab_type": "text"
      },
      "source": [
        "**Estados que apresentaram variação negativa.**"
      ]
    },
    {
      "cell_type": "code",
      "metadata": {
        "id": "2z3c7d48tAg9",
        "colab_type": "code",
        "colab": {
          "base_uri": "https://localhost:8080/",
          "height": 522
        },
        "outputId": "f3e554e1-553a-4ac9-8308-9b984efa6590"
      },
      "source": [
        "#definindo os valores do eixo y \n",
        "y1=tx_sudeste.loc['São_Paulo','tx_regional_homicidios']\n",
        "y2=tx_sul.loc['Santa_Catarina','tx_regional_homicidios']\n",
        "y3=tx_nordeste.loc['Sergipe','tx_regional_homicidios']\n",
        "\n",
        "#plotando o gráfico de multilinhas - x são os anos de estudo dos dados; \n",
        "#para cada um deles teremos tres valores correspondentes no eixo y, que se referem cada linha a um estado.\n",
        "figura= plt.figure(figsize= (11, 7.8))\n",
        "figura= plt.plot(x,y1,ls='-',label='São Paulo')\n",
        "figura= plt.plot(x,y2,ls='-',label='Santa Catarina')\n",
        "figura= plt.plot(x,y3,ls='-',label='Sergipe')\n",
        "#plotando uma linha horizontal com a média naciopnal dos homicidios de mulheres a cada 100 mil na série analisada, visando efeitos de comparação.\n",
        "plt.axhline(y=dados_brasil.tx_nacional_homicidios.mean(), color='r', linestyle='-',label='Média Brasil')\n",
        "#Definindo os titulos do gráfico, eixo X e eixo Y.\n",
        "plt.xlabel('Anos', fontsize= 15, labelpad= 15)\n",
        "plt.ylabel('Taxa de Feminicidio', fontsize= 15, labelpad= 15)\n",
        "plt.title('Trajetória das taxas de feminicidio nas três ufs menos violentas em 2018', fontsize= 18)\n",
        "plt.legend(loc=0)\n",
        "\n",
        "plt.show()"
      ],
      "execution_count": 41,
      "outputs": [
        {
          "output_type": "display_data",
          "data": {
            "image/png": "[encoded data removed]",
            "text/plain": [
              "<Figure size 792x561.6 with 1 Axes>"
            ]
          },
          "metadata": {
            "tags": [],
            "needs_background": "light"
          }
        }
      ]
    },
    {
      "cell_type": "markdown",
      "metadata": {
        "id": "-h2UrFDcIKfo",
        "colab_type": "text"
      },
      "source": [
        "#**Homicídios de mulheres por raça**\n",
        "\n",
        " **Sabemos que no Brasil há uma desigualdade racial em diversos setores, pois as denúncias e os casos públicos de racismo, as diferenças entre raças em ocupações de cargos importantes, entre outros aspectos, infelizmente são comuns em nosso dia a dia, e com os casos de feminicídio não é diferente. Na próxima sessão iremos visualizar a trajetória dos dados sobre homicídios de mulheres nos ultimos dez anos em relação a raça das vítimas e dessa forma veremos que esse tipo de violência é muito mais comum entre mulheres negras.**"
      ]
    },
    {
      "cell_type": "code",
      "metadata": {
        "id": "4bJqk-KllLn3",
        "colab_type": "code",
        "colab": {
          "base_uri": "https://localhost:8080/",
          "height": 790
        },
        "outputId": "9920b3d3-6f30-47e1-f109-a3f0c2946011"
      },
      "source": [
        "#fazendo a leitura do aquivo csv, definindo o formato, o separador e o cabeçalho vazio.\n",
        "fem_por_raca=pd.read_csv('/content/feminicidios_raca.csv',encoding='latin-1',sep='/t',header=None)\n",
        "fem_por_raca.head(25)"
      ],
      "execution_count": 42,
      "outputs": [
        {
          "output_type": "stream",
          "text": [
            "/usr/local/lib/python3.6/dist-packages/ipykernel_launcher.py:2: ParserWarning: Falling back to the 'python' engine because the 'c' engine does not support regex separators (separators > 1 char and different from '\\s+' are interpreted as regex); you can avoid this warning by specifying engine='python'.\n",
            "  \n"
          ],
          "name": "stderr"
        },
        {
          "output_type": "execute_result",
          "data": {
            "text/html": [
              "<div>\n",
              "<style scoped>\n",
              "    .dataframe tbody tr th:only-of-type {\n",
              "        vertical-align: middle;\n",
              "    }\n",
              "\n",
              "    .dataframe tbody tr th {\n",
              "        vertical-align: top;\n",
              "    }\n",
              "\n",
              "    .dataframe thead th {\n",
              "        text-align: right;\n",
              "    }\n",
              "</style>\n",
              "<table border=\"1\" class=\"dataframe\">\n",
              "  <thead>\n",
              "    <tr style=\"text-align: right;\">\n",
              "      <th></th>\n",
              "      <th>0</th>\n",
              "    </tr>\n",
              "  </thead>\n",
              "  <tbody>\n",
              "    <tr>\n",
              "      <th>0</th>\n",
              "      <td>Óbitos por Causas Externas - Brasil</td>\n",
              "    </tr>\n",
              "    <tr>\n",
              "      <th>1</th>\n",
              "      <td>Óbitos p/Ocorrênc por Ano do Óbito e Cor/raça</td>\n",
              "    </tr>\n",
              "    <tr>\n",
              "      <th>2</th>\n",
              "      <td>Grande Grupo CID10: X85-Y09 Agressões</td>\n",
              "    </tr>\n",
              "    <tr>\n",
              "      <th>3</th>\n",
              "      <td>Sexo: Fem</td>\n",
              "    </tr>\n",
              "    <tr>\n",
              "      <th>4</th>\n",
              "      <td>Período:2008-2018</td>\n",
              "    </tr>\n",
              "    <tr>\n",
              "      <th>5</th>\n",
              "      <td>\"Ano do Óbito\";\"Branca\";\"Preta\";\"Amarela\";\"Par...</td>\n",
              "    </tr>\n",
              "    <tr>\n",
              "      <th>6</th>\n",
              "      <td>\"2008\";1544;279;13;1974;21;192;4023</td>\n",
              "    </tr>\n",
              "    <tr>\n",
              "      <th>7</th>\n",
              "      <td>\"2009\";1591;273;15;2143;28;210;4260</td>\n",
              "    </tr>\n",
              "    <tr>\n",
              "      <th>8</th>\n",
              "      <td>\"2010\";1590;284;12;2319;22;238;4465</td>\n",
              "    </tr>\n",
              "    <tr>\n",
              "      <th>9</th>\n",
              "      <td>\"2011\";1522;314;8;2397;23;248;4512</td>\n",
              "    </tr>\n",
              "    <tr>\n",
              "      <th>10</th>\n",
              "      <td>\"2012\";1535;369;5;2545;40;225;4719</td>\n",
              "    </tr>\n",
              "    <tr>\n",
              "      <th>11</th>\n",
              "      <td>\"2013\";1576;337;14;2538;51;246;4762</td>\n",
              "    </tr>\n",
              "    <tr>\n",
              "      <th>12</th>\n",
              "      <td>\"2014\";1569;320;7;2670;42;224;4832</td>\n",
              "    </tr>\n",
              "    <tr>\n",
              "      <th>13</th>\n",
              "      <td>\"2015\";1492;325;13;2572;34;180;4616</td>\n",
              "    </tr>\n",
              "    <tr>\n",
              "      <th>14</th>\n",
              "      <td>\"2016\";1432;329;6;2670;46;152;4635</td>\n",
              "    </tr>\n",
              "    <tr>\n",
              "      <th>15</th>\n",
              "      <td>\"2017\";1490;319;13;2963;39;104;4928</td>\n",
              "    </tr>\n",
              "    <tr>\n",
              "      <th>16</th>\n",
              "      <td>\"2018\";1301;322;9;2742;47;91;4512</td>\n",
              "    </tr>\n",
              "    <tr>\n",
              "      <th>17</th>\n",
              "      <td>\"Total\";16642;3471;115;27533;393;2110;50264</td>\n",
              "    </tr>\n",
              "    <tr>\n",
              "      <th>18</th>\n",
              "      <td>Fonte: MS/SVS/CGIAE - Sistema de Informações s...</td>\n",
              "    </tr>\n",
              "    <tr>\n",
              "      <th>19</th>\n",
              "      <td>Nota:</td>\n",
              "    </tr>\n",
              "    <tr>\n",
              "      <th>20</th>\n",
              "      <td>Em 2011, houve uma mudança no conteúdo da Decl...</td>\n",
              "    </tr>\n",
              "    <tr>\n",
              "      <th>21</th>\n",
              "      <td>utilizados simultaneamente os dois formulários...</td>\n",
              "    </tr>\n",
              "    <tr>\n",
              "      <th>22</th>\n",
              "      <td>\"Sistema de Informações sobre Mortalidade - SI...</td>\n",
              "    </tr>\n",
              "    <tr>\n",
              "      <th>23</th>\n",
              "      <td>No dia 13/06/2019, os arquivos do SIM referent...</td>\n",
              "    </tr>\n",
              "  </tbody>\n",
              "</table>\n",
              "</div>"
            ],
            "text/plain": [
              "                                                    0\n",
              "0                 Óbitos por Causas Externas - Brasil\n",
              "1       Óbitos p/Ocorrênc por Ano do Óbito e Cor/raça\n",
              "2               Grande Grupo CID10: X85-Y09 Agressões\n",
              "3                                           Sexo: Fem\n",
              "4                                   Período:2008-2018\n",
              "5   \"Ano do Óbito\";\"Branca\";\"Preta\";\"Amarela\";\"Par...\n",
              "6                 \"2008\";1544;279;13;1974;21;192;4023\n",
              "7                 \"2009\";1591;273;15;2143;28;210;4260\n",
              "8                 \"2010\";1590;284;12;2319;22;238;4465\n",
              "9                  \"2011\";1522;314;8;2397;23;248;4512\n",
              "10                 \"2012\";1535;369;5;2545;40;225;4719\n",
              "11                \"2013\";1576;337;14;2538;51;246;4762\n",
              "12                 \"2014\";1569;320;7;2670;42;224;4832\n",
              "13                \"2015\";1492;325;13;2572;34;180;4616\n",
              "14                 \"2016\";1432;329;6;2670;46;152;4635\n",
              "15                \"2017\";1490;319;13;2963;39;104;4928\n",
              "16                  \"2018\";1301;322;9;2742;47;91;4512\n",
              "17        \"Total\";16642;3471;115;27533;393;2110;50264\n",
              "18  Fonte: MS/SVS/CGIAE - Sistema de Informações s...\n",
              "19                                              Nota:\n",
              "20  Em 2011, houve uma mudança no conteúdo da Decl...\n",
              "21  utilizados simultaneamente os dois formulários...\n",
              "22  \"Sistema de Informações sobre Mortalidade - SI...\n",
              "23  No dia 13/06/2019, os arquivos do SIM referent..."
            ]
          },
          "metadata": {
            "tags": []
          },
          "execution_count": 42
        }
      ]
    },
    {
      "cell_type": "markdown",
      "metadata": {
        "id": "WWp0ZF0jCPsY",
        "colab_type": "text"
      },
      "source": [
        "**- O arquivo traz os homicidios de mulheres por agressão levando em consideração a raça das vitimas no momento em que a morte fora registrada.**\n",
        "\n",
        "**- Então temos o múmero total de mulheres pardas, pretas, brancas, indigenas e amarelas que tiveram seus obitos decretados por razão de agressão em cada ano da série.**\n",
        "\n",
        "**- Entretanto vemos que é necessário fazer alguns tratamentos na leitura do DATASET; vamos então definir no código abaixo os cabeçalhos do DATASET no momento da leitura do arquivo, escolher o separador dos dados e excluir as linhas indesejadas.**"
      ]
    },
    {
      "cell_type": "code",
      "metadata": {
        "id": "Ln63xXsmHMzB",
        "colab_type": "code",
        "colab": {
          "base_uri": "https://localhost:8080/",
          "height": 478
        },
        "outputId": "52d767e4-acd9-4566-ffea-7564d9064b1a"
      },
      "source": [
        "#fazendo a leitura do aquivo csv, definindo o formato, separador e as colunas do DATASET\n",
        "fem_por_raca=pd.read_csv('/content/feminicidios_raca.csv',encoding='latin-1',sep=';',header=None,\n",
        "                         names=['Ano','Branca','Preta','Amarela','Parda','Indigena','Ignorado','Total'])\n",
        "fem_por_raca.head(15)"
      ],
      "execution_count": 43,
      "outputs": [
        {
          "output_type": "execute_result",
          "data": {
            "text/html": [
              "<div>\n",
              "<style scoped>\n",
              "    .dataframe tbody tr th:only-of-type {\n",
              "        vertical-align: middle;\n",
              "    }\n",
              "\n",
              "    .dataframe tbody tr th {\n",
              "        vertical-align: top;\n",
              "    }\n",
              "\n",
              "    .dataframe thead th {\n",
              "        text-align: right;\n",
              "    }\n",
              "</style>\n",
              "<table border=\"1\" class=\"dataframe\">\n",
              "  <thead>\n",
              "    <tr style=\"text-align: right;\">\n",
              "      <th></th>\n",
              "      <th>Ano</th>\n",
              "      <th>Branca</th>\n",
              "      <th>Preta</th>\n",
              "      <th>Amarela</th>\n",
              "      <th>Parda</th>\n",
              "      <th>Indigena</th>\n",
              "      <th>Ignorado</th>\n",
              "      <th>Total</th>\n",
              "    </tr>\n",
              "  </thead>\n",
              "  <tbody>\n",
              "    <tr>\n",
              "      <th>0</th>\n",
              "      <td>Óbitos por Causas Externas - Brasil</td>\n",
              "      <td>NaN</td>\n",
              "      <td>NaN</td>\n",
              "      <td>NaN</td>\n",
              "      <td>NaN</td>\n",
              "      <td>NaN</td>\n",
              "      <td>NaN</td>\n",
              "      <td>NaN</td>\n",
              "    </tr>\n",
              "    <tr>\n",
              "      <th>1</th>\n",
              "      <td>Óbitos p/Ocorrênc por Ano do Óbito e Cor/raça</td>\n",
              "      <td>NaN</td>\n",
              "      <td>NaN</td>\n",
              "      <td>NaN</td>\n",
              "      <td>NaN</td>\n",
              "      <td>NaN</td>\n",
              "      <td>NaN</td>\n",
              "      <td>NaN</td>\n",
              "    </tr>\n",
              "    <tr>\n",
              "      <th>2</th>\n",
              "      <td>Grande Grupo CID10: X85-Y09 Agressões</td>\n",
              "      <td>NaN</td>\n",
              "      <td>NaN</td>\n",
              "      <td>NaN</td>\n",
              "      <td>NaN</td>\n",
              "      <td>NaN</td>\n",
              "      <td>NaN</td>\n",
              "      <td>NaN</td>\n",
              "    </tr>\n",
              "    <tr>\n",
              "      <th>3</th>\n",
              "      <td>Sexo: Fem</td>\n",
              "      <td>NaN</td>\n",
              "      <td>NaN</td>\n",
              "      <td>NaN</td>\n",
              "      <td>NaN</td>\n",
              "      <td>NaN</td>\n",
              "      <td>NaN</td>\n",
              "      <td>NaN</td>\n",
              "    </tr>\n",
              "    <tr>\n",
              "      <th>4</th>\n",
              "      <td>Período:2008-2018</td>\n",
              "      <td>NaN</td>\n",
              "      <td>NaN</td>\n",
              "      <td>NaN</td>\n",
              "      <td>NaN</td>\n",
              "      <td>NaN</td>\n",
              "      <td>NaN</td>\n",
              "      <td>NaN</td>\n",
              "    </tr>\n",
              "    <tr>\n",
              "      <th>5</th>\n",
              "      <td>Ano do Óbito</td>\n",
              "      <td>Branca</td>\n",
              "      <td>Preta</td>\n",
              "      <td>Amarela</td>\n",
              "      <td>Parda</td>\n",
              "      <td>Indígena</td>\n",
              "      <td>Ignorado</td>\n",
              "      <td>Total</td>\n",
              "    </tr>\n",
              "    <tr>\n",
              "      <th>6</th>\n",
              "      <td>2008</td>\n",
              "      <td>1544</td>\n",
              "      <td>279</td>\n",
              "      <td>13</td>\n",
              "      <td>1974</td>\n",
              "      <td>21</td>\n",
              "      <td>192</td>\n",
              "      <td>4023</td>\n",
              "    </tr>\n",
              "    <tr>\n",
              "      <th>7</th>\n",
              "      <td>2009</td>\n",
              "      <td>1591</td>\n",
              "      <td>273</td>\n",
              "      <td>15</td>\n",
              "      <td>2143</td>\n",
              "      <td>28</td>\n",
              "      <td>210</td>\n",
              "      <td>4260</td>\n",
              "    </tr>\n",
              "    <tr>\n",
              "      <th>8</th>\n",
              "      <td>2010</td>\n",
              "      <td>1590</td>\n",
              "      <td>284</td>\n",
              "      <td>12</td>\n",
              "      <td>2319</td>\n",
              "      <td>22</td>\n",
              "      <td>238</td>\n",
              "      <td>4465</td>\n",
              "    </tr>\n",
              "    <tr>\n",
              "      <th>9</th>\n",
              "      <td>2011</td>\n",
              "      <td>1522</td>\n",
              "      <td>314</td>\n",
              "      <td>8</td>\n",
              "      <td>2397</td>\n",
              "      <td>23</td>\n",
              "      <td>248</td>\n",
              "      <td>4512</td>\n",
              "    </tr>\n",
              "    <tr>\n",
              "      <th>10</th>\n",
              "      <td>2012</td>\n",
              "      <td>1535</td>\n",
              "      <td>369</td>\n",
              "      <td>5</td>\n",
              "      <td>2545</td>\n",
              "      <td>40</td>\n",
              "      <td>225</td>\n",
              "      <td>4719</td>\n",
              "    </tr>\n",
              "    <tr>\n",
              "      <th>11</th>\n",
              "      <td>2013</td>\n",
              "      <td>1576</td>\n",
              "      <td>337</td>\n",
              "      <td>14</td>\n",
              "      <td>2538</td>\n",
              "      <td>51</td>\n",
              "      <td>246</td>\n",
              "      <td>4762</td>\n",
              "    </tr>\n",
              "    <tr>\n",
              "      <th>12</th>\n",
              "      <td>2014</td>\n",
              "      <td>1569</td>\n",
              "      <td>320</td>\n",
              "      <td>7</td>\n",
              "      <td>2670</td>\n",
              "      <td>42</td>\n",
              "      <td>224</td>\n",
              "      <td>4832</td>\n",
              "    </tr>\n",
              "    <tr>\n",
              "      <th>13</th>\n",
              "      <td>2015</td>\n",
              "      <td>1492</td>\n",
              "      <td>325</td>\n",
              "      <td>13</td>\n",
              "      <td>2572</td>\n",
              "      <td>34</td>\n",
              "      <td>180</td>\n",
              "      <td>4616</td>\n",
              "    </tr>\n",
              "    <tr>\n",
              "      <th>14</th>\n",
              "      <td>2016</td>\n",
              "      <td>1432</td>\n",
              "      <td>329</td>\n",
              "      <td>6</td>\n",
              "      <td>2670</td>\n",
              "      <td>46</td>\n",
              "      <td>152</td>\n",
              "      <td>4635</td>\n",
              "    </tr>\n",
              "  </tbody>\n",
              "</table>\n",
              "</div>"
            ],
            "text/plain": [
              "                                              Ano  Branca  ...  Ignorado  Total\n",
              "0             Óbitos por Causas Externas - Brasil     NaN  ...       NaN    NaN\n",
              "1   Óbitos p/Ocorrênc por Ano do Óbito e Cor/raça     NaN  ...       NaN    NaN\n",
              "2           Grande Grupo CID10: X85-Y09 Agressões     NaN  ...       NaN    NaN\n",
              "3                                       Sexo: Fem     NaN  ...       NaN    NaN\n",
              "4                               Período:2008-2018     NaN  ...       NaN    NaN\n",
              "5                                    Ano do Óbito  Branca  ...  Ignorado  Total\n",
              "6                                            2008    1544  ...       192   4023\n",
              "7                                            2009    1591  ...       210   4260\n",
              "8                                            2010    1590  ...       238   4465\n",
              "9                                            2011    1522  ...       248   4512\n",
              "10                                           2012    1535  ...       225   4719\n",
              "11                                           2013    1576  ...       246   4762\n",
              "12                                           2014    1569  ...       224   4832\n",
              "13                                           2015    1492  ...       180   4616\n",
              "14                                           2016    1432  ...       152   4635\n",
              "\n",
              "[15 rows x 8 columns]"
            ]
          },
          "metadata": {
            "tags": []
          },
          "execution_count": 43
        }
      ]
    },
    {
      "cell_type": "code",
      "metadata": {
        "id": "qhlxGG6ZIMkQ",
        "colab_type": "code",
        "colab": {
          "base_uri": "https://localhost:8080/",
          "height": 363
        },
        "outputId": "12786e38-c734-41b8-e9ef-3467ffdb83bc"
      },
      "source": [
        "#dropando as linhas indesejadas\n",
        "fem_por_raca=fem_por_raca.drop([0,1,2,3,4,5,17,18,19,20,21,22,23],axis=0)\n",
        "fem_por_raca.head(15)"
      ],
      "execution_count": 44,
      "outputs": [
        {
          "output_type": "execute_result",
          "data": {
            "text/html": [
              "<div>\n",
              "<style scoped>\n",
              "    .dataframe tbody tr th:only-of-type {\n",
              "        vertical-align: middle;\n",
              "    }\n",
              "\n",
              "    .dataframe tbody tr th {\n",
              "        vertical-align: top;\n",
              "    }\n",
              "\n",
              "    .dataframe thead th {\n",
              "        text-align: right;\n",
              "    }\n",
              "</style>\n",
              "<table border=\"1\" class=\"dataframe\">\n",
              "  <thead>\n",
              "    <tr style=\"text-align: right;\">\n",
              "      <th></th>\n",
              "      <th>Ano</th>\n",
              "      <th>Branca</th>\n",
              "      <th>Preta</th>\n",
              "      <th>Amarela</th>\n",
              "      <th>Parda</th>\n",
              "      <th>Indigena</th>\n",
              "      <th>Ignorado</th>\n",
              "      <th>Total</th>\n",
              "    </tr>\n",
              "  </thead>\n",
              "  <tbody>\n",
              "    <tr>\n",
              "      <th>6</th>\n",
              "      <td>2008</td>\n",
              "      <td>1544</td>\n",
              "      <td>279</td>\n",
              "      <td>13</td>\n",
              "      <td>1974</td>\n",
              "      <td>21</td>\n",
              "      <td>192</td>\n",
              "      <td>4023</td>\n",
              "    </tr>\n",
              "    <tr>\n",
              "      <th>7</th>\n",
              "      <td>2009</td>\n",
              "      <td>1591</td>\n",
              "      <td>273</td>\n",
              "      <td>15</td>\n",
              "      <td>2143</td>\n",
              "      <td>28</td>\n",
              "      <td>210</td>\n",
              "      <td>4260</td>\n",
              "    </tr>\n",
              "    <tr>\n",
              "      <th>8</th>\n",
              "      <td>2010</td>\n",
              "      <td>1590</td>\n",
              "      <td>284</td>\n",
              "      <td>12</td>\n",
              "      <td>2319</td>\n",
              "      <td>22</td>\n",
              "      <td>238</td>\n",
              "      <td>4465</td>\n",
              "    </tr>\n",
              "    <tr>\n",
              "      <th>9</th>\n",
              "      <td>2011</td>\n",
              "      <td>1522</td>\n",
              "      <td>314</td>\n",
              "      <td>8</td>\n",
              "      <td>2397</td>\n",
              "      <td>23</td>\n",
              "      <td>248</td>\n",
              "      <td>4512</td>\n",
              "    </tr>\n",
              "    <tr>\n",
              "      <th>10</th>\n",
              "      <td>2012</td>\n",
              "      <td>1535</td>\n",
              "      <td>369</td>\n",
              "      <td>5</td>\n",
              "      <td>2545</td>\n",
              "      <td>40</td>\n",
              "      <td>225</td>\n",
              "      <td>4719</td>\n",
              "    </tr>\n",
              "    <tr>\n",
              "      <th>11</th>\n",
              "      <td>2013</td>\n",
              "      <td>1576</td>\n",
              "      <td>337</td>\n",
              "      <td>14</td>\n",
              "      <td>2538</td>\n",
              "      <td>51</td>\n",
              "      <td>246</td>\n",
              "      <td>4762</td>\n",
              "    </tr>\n",
              "    <tr>\n",
              "      <th>12</th>\n",
              "      <td>2014</td>\n",
              "      <td>1569</td>\n",
              "      <td>320</td>\n",
              "      <td>7</td>\n",
              "      <td>2670</td>\n",
              "      <td>42</td>\n",
              "      <td>224</td>\n",
              "      <td>4832</td>\n",
              "    </tr>\n",
              "    <tr>\n",
              "      <th>13</th>\n",
              "      <td>2015</td>\n",
              "      <td>1492</td>\n",
              "      <td>325</td>\n",
              "      <td>13</td>\n",
              "      <td>2572</td>\n",
              "      <td>34</td>\n",
              "      <td>180</td>\n",
              "      <td>4616</td>\n",
              "    </tr>\n",
              "    <tr>\n",
              "      <th>14</th>\n",
              "      <td>2016</td>\n",
              "      <td>1432</td>\n",
              "      <td>329</td>\n",
              "      <td>6</td>\n",
              "      <td>2670</td>\n",
              "      <td>46</td>\n",
              "      <td>152</td>\n",
              "      <td>4635</td>\n",
              "    </tr>\n",
              "    <tr>\n",
              "      <th>15</th>\n",
              "      <td>2017</td>\n",
              "      <td>1490</td>\n",
              "      <td>319</td>\n",
              "      <td>13</td>\n",
              "      <td>2963</td>\n",
              "      <td>39</td>\n",
              "      <td>104</td>\n",
              "      <td>4928</td>\n",
              "    </tr>\n",
              "    <tr>\n",
              "      <th>16</th>\n",
              "      <td>2018</td>\n",
              "      <td>1301</td>\n",
              "      <td>322</td>\n",
              "      <td>9</td>\n",
              "      <td>2742</td>\n",
              "      <td>47</td>\n",
              "      <td>91</td>\n",
              "      <td>4512</td>\n",
              "    </tr>\n",
              "  </tbody>\n",
              "</table>\n",
              "</div>"
            ],
            "text/plain": [
              "     Ano Branca Preta Amarela Parda Indigena Ignorado Total\n",
              "6   2008   1544   279      13  1974       21      192  4023\n",
              "7   2009   1591   273      15  2143       28      210  4260\n",
              "8   2010   1590   284      12  2319       22      238  4465\n",
              "9   2011   1522   314       8  2397       23      248  4512\n",
              "10  2012   1535   369       5  2545       40      225  4719\n",
              "11  2013   1576   337      14  2538       51      246  4762\n",
              "12  2014   1569   320       7  2670       42      224  4832\n",
              "13  2015   1492   325      13  2572       34      180  4616\n",
              "14  2016   1432   329       6  2670       46      152  4635\n",
              "15  2017   1490   319      13  2963       39      104  4928\n",
              "16  2018   1301   322       9  2742       47       91  4512"
            ]
          },
          "metadata": {
            "tags": []
          },
          "execution_count": 44
        }
      ]
    },
    {
      "cell_type": "markdown",
      "metadata": {
        "id": "g-69dso9Kz6K",
        "colab_type": "text"
      },
      "source": [
        "**O DataSet traz em sua ultima coluna anualmente os dados totais de homicidios de mulheres por qualquer tipo de agressão ocorridos no Brasil durante os anos de 2008 a 2018, registrando nas colunas anteriores os totais de casos em que as vitimas eram autodeclaradas como brancas, pretas, amarelas, pardas, indígenas ou os casos em que a raça das vítimas foram ignoradas nos registros.**\n",
        "\n",
        "\n",
        "**Observamos, em um pirmeiro momento, que as três raças com mais registros dessas mortes em todos os anos foram a das mulheres autodeclaradas como Pardas, Brancas e pretas, nesta ordem decrescente.**"
      ]
    },
    {
      "cell_type": "code",
      "metadata": {
        "id": "Q-jOmn5fW19-",
        "colab_type": "code",
        "colab": {
          "base_uri": "https://localhost:8080/",
          "height": 163
        },
        "outputId": "e2b13448-a182-4472-84c1-48d05689ad5d"
      },
      "source": [
        "#conhecendo o formato com que os dados foram tratados\n",
        "fem_por_raca.dtypes"
      ],
      "execution_count": 45,
      "outputs": [
        {
          "output_type": "execute_result",
          "data": {
            "text/plain": [
              "Ano         object\n",
              "Branca      object\n",
              "Preta       object\n",
              "Amarela     object\n",
              "Parda       object\n",
              "Indigena    object\n",
              "Ignorado    object\n",
              "Total       object\n",
              "dtype: object"
            ]
          },
          "metadata": {
            "tags": []
          },
          "execution_count": 45
        }
      ]
    },
    {
      "cell_type": "code",
      "metadata": {
        "id": "C12bbuYheoL9",
        "colab_type": "code",
        "colab": {
          "base_uri": "https://localhost:8080/",
          "height": 163
        },
        "outputId": "eb255238-d5e6-411c-abaa-e467a932cebe"
      },
      "source": [
        "#verifca-se que as colunas trazem conjuntos de strings, mesmo com os dados escritos em formato numérico.\n",
        "#transformando todo o  DataSet em séries de numeros inteiros.\n",
        "fem_por_raca=fem_por_raca.astype(int)\n",
        "#visualizando a alteração\n",
        "fem_por_raca.dtypes"
      ],
      "execution_count": 46,
      "outputs": [
        {
          "output_type": "execute_result",
          "data": {
            "text/plain": [
              "Ano         int64\n",
              "Branca      int64\n",
              "Preta       int64\n",
              "Amarela     int64\n",
              "Parda       int64\n",
              "Indigena    int64\n",
              "Ignorado    int64\n",
              "Total       int64\n",
              "dtype: object"
            ]
          },
          "metadata": {
            "tags": []
          },
          "execution_count": 46
        }
      ]
    },
    {
      "cell_type": "markdown",
      "metadata": {
        "id": "2DBa30PTKEEb",
        "colab_type": "text"
      },
      "source": [
        "**Para melhor visualização e compreensão dos dados, iremos separar todo o Dataset em dois grupos: as mulheres vítimas de raça negra, que será a soma das mulheres autodeclaradas como pardas e pretas, e as mulheres vitimas de raça branca ou outra raça, que somarão o grupo das vitimas autodeclaradas como brancas, indígenas e amarelas.**"
      ]
    },
    {
      "cell_type": "code",
      "metadata": {
        "id": "PheGu0wj6PfW",
        "colab_type": "code",
        "colab": {
          "base_uri": "https://localhost:8080/",
          "height": 191
        },
        "outputId": "1ae0f548-0990-45ee-bb53-f304a5eb519b"
      },
      "source": [
        "#somando as raças para criarmos duas colunas com novas listas: 'vitimas_negras' e 'vitimas_outras_raças'\n",
        "fem_por_raca['vitimas_outras_racas']=fem_por_raca['Branca']+fem_por_raca['Amarela']+fem_por_raca['Indigena']\n",
        "fem_por_raca['vitimas_raca_negra']=fem_por_raca['Parda']+fem_por_raca['Preta']\n",
        "\n",
        "#excluindo as antigas colunas não mais necessárias para a análise\n",
        "fem_por_raca=fem_por_raca.drop(columns=['Branca','Parda','Preta','Amarela','Indigena','Ignorado','Total'])\n",
        "fem_por_raca.head()"
      ],
      "execution_count": 47,
      "outputs": [
        {
          "output_type": "execute_result",
          "data": {
            "text/html": [
              "<div>\n",
              "<style scoped>\n",
              "    .dataframe tbody tr th:only-of-type {\n",
              "        vertical-align: middle;\n",
              "    }\n",
              "\n",
              "    .dataframe tbody tr th {\n",
              "        vertical-align: top;\n",
              "    }\n",
              "\n",
              "    .dataframe thead th {\n",
              "        text-align: right;\n",
              "    }\n",
              "</style>\n",
              "<table border=\"1\" class=\"dataframe\">\n",
              "  <thead>\n",
              "    <tr style=\"text-align: right;\">\n",
              "      <th></th>\n",
              "      <th>Ano</th>\n",
              "      <th>vitimas_outras_racas</th>\n",
              "      <th>vitimas_raca_negra</th>\n",
              "    </tr>\n",
              "  </thead>\n",
              "  <tbody>\n",
              "    <tr>\n",
              "      <th>6</th>\n",
              "      <td>2008</td>\n",
              "      <td>1578</td>\n",
              "      <td>2253</td>\n",
              "    </tr>\n",
              "    <tr>\n",
              "      <th>7</th>\n",
              "      <td>2009</td>\n",
              "      <td>1634</td>\n",
              "      <td>2416</td>\n",
              "    </tr>\n",
              "    <tr>\n",
              "      <th>8</th>\n",
              "      <td>2010</td>\n",
              "      <td>1624</td>\n",
              "      <td>2603</td>\n",
              "    </tr>\n",
              "    <tr>\n",
              "      <th>9</th>\n",
              "      <td>2011</td>\n",
              "      <td>1553</td>\n",
              "      <td>2711</td>\n",
              "    </tr>\n",
              "    <tr>\n",
              "      <th>10</th>\n",
              "      <td>2012</td>\n",
              "      <td>1580</td>\n",
              "      <td>2914</td>\n",
              "    </tr>\n",
              "  </tbody>\n",
              "</table>\n",
              "</div>"
            ],
            "text/plain": [
              "     Ano  vitimas_outras_racas  vitimas_raca_negra\n",
              "6   2008                  1578                2253\n",
              "7   2009                  1634                2416\n",
              "8   2010                  1624                2603\n",
              "9   2011                  1553                2711\n",
              "10  2012                  1580                2914"
            ]
          },
          "metadata": {
            "tags": []
          },
          "execution_count": 47
        }
      ]
    },
    {
      "cell_type": "markdown",
      "metadata": {
        "id": "-t4jRxH5dg_u",
        "colab_type": "text"
      },
      "source": [
        "**No próximo passo criarei no DATASET uma coluna com o total de mortes em cada ano, ou seja, a soma dos homicidios por agressão de mulheres negras e outras raças, pois a última coluna com esse dado levava em conta os casos ignorados.**"
      ]
    },
    {
      "cell_type": "code",
      "metadata": {
        "id": "9ukoyeKYnHXo",
        "colab_type": "code",
        "colab": {
          "base_uri": "https://localhost:8080/",
          "height": 191
        },
        "outputId": "eb0177e7-9958-4852-9544-1089c3ff38c0"
      },
      "source": [
        "#criando uma lista que recebera todas series de 'fem_por_raca' e logo depois removendo a coluna 'ano', que não iremos usar.\n",
        "lista_colunas=list(fem_por_raca)\n",
        "lista_colunas.remove('Ano')\n",
        "#adicionando essa lista ao DataSet na variável 'Total', que por sua vez, leva a soma de cada linha das vítimas negras e de outras raças. \n",
        "fem_por_raca['Total']=fem_por_raca[lista_colunas].sum(axis=1)\n",
        "fem_por_raca.head()"
      ],
      "execution_count": 48,
      "outputs": [
        {
          "output_type": "execute_result",
          "data": {
            "text/html": [
              "<div>\n",
              "<style scoped>\n",
              "    .dataframe tbody tr th:only-of-type {\n",
              "        vertical-align: middle;\n",
              "    }\n",
              "\n",
              "    .dataframe tbody tr th {\n",
              "        vertical-align: top;\n",
              "    }\n",
              "\n",
              "    .dataframe thead th {\n",
              "        text-align: right;\n",
              "    }\n",
              "</style>\n",
              "<table border=\"1\" class=\"dataframe\">\n",
              "  <thead>\n",
              "    <tr style=\"text-align: right;\">\n",
              "      <th></th>\n",
              "      <th>Ano</th>\n",
              "      <th>vitimas_outras_racas</th>\n",
              "      <th>vitimas_raca_negra</th>\n",
              "      <th>Total</th>\n",
              "    </tr>\n",
              "  </thead>\n",
              "  <tbody>\n",
              "    <tr>\n",
              "      <th>6</th>\n",
              "      <td>2008</td>\n",
              "      <td>1578</td>\n",
              "      <td>2253</td>\n",
              "      <td>3831</td>\n",
              "    </tr>\n",
              "    <tr>\n",
              "      <th>7</th>\n",
              "      <td>2009</td>\n",
              "      <td>1634</td>\n",
              "      <td>2416</td>\n",
              "      <td>4050</td>\n",
              "    </tr>\n",
              "    <tr>\n",
              "      <th>8</th>\n",
              "      <td>2010</td>\n",
              "      <td>1624</td>\n",
              "      <td>2603</td>\n",
              "      <td>4227</td>\n",
              "    </tr>\n",
              "    <tr>\n",
              "      <th>9</th>\n",
              "      <td>2011</td>\n",
              "      <td>1553</td>\n",
              "      <td>2711</td>\n",
              "      <td>4264</td>\n",
              "    </tr>\n",
              "    <tr>\n",
              "      <th>10</th>\n",
              "      <td>2012</td>\n",
              "      <td>1580</td>\n",
              "      <td>2914</td>\n",
              "      <td>4494</td>\n",
              "    </tr>\n",
              "  </tbody>\n",
              "</table>\n",
              "</div>"
            ],
            "text/plain": [
              "     Ano  vitimas_outras_racas  vitimas_raca_negra  Total\n",
              "6   2008                  1578                2253   3831\n",
              "7   2009                  1634                2416   4050\n",
              "8   2010                  1624                2603   4227\n",
              "9   2011                  1553                2711   4264\n",
              "10  2012                  1580                2914   4494"
            ]
          },
          "metadata": {
            "tags": []
          },
          "execution_count": 48
        }
      ]
    },
    {
      "cell_type": "markdown",
      "metadata": {
        "id": "V1fvwgicfjyx",
        "colab_type": "text"
      },
      "source": [
        "\n",
        "**Vamos então visualizar as trajetorias das mortes desses dois grupos de mulheres.**\n",
        "\n",
        "**Primeiramente vamos ver quantas mortes por grupo racial foram registradas nessa série decenal em sua totalidade.**"
      ]
    },
    {
      "cell_type": "code",
      "metadata": {
        "id": "QsIM3SewxMx-",
        "colab_type": "code",
        "colab": {
          "base_uri": "https://localhost:8080/",
          "height": 50
        },
        "outputId": "47f18bc2-e849-4038-8665-4cfed1450cf1"
      },
      "source": [
        "print('Nos dez anos de observação desses dados foram registrados',(fem_por_raca.vitimas_raca_negra.sum()),'homicidios por agressão de mulheres negras.')\n",
        "print('Para o grupo de mulheres brancas/indigenas/amarelas foram registrados',(fem_por_raca.vitimas_outras_racas.sum()), 'homicidios por agressão.')"
      ],
      "execution_count": 49,
      "outputs": [
        {
          "output_type": "stream",
          "text": [
            "Nos dez anos de observação desses dados foram registrados 31004 homicidios por agressão de mulheres negras.\n",
            "Para o grupo de mulheres brancas/indigenas/amarelas foram registrados 17150 homicidios por agressão.\n"
          ],
          "name": "stdout"
        }
      ]
    },
    {
      "cell_type": "markdown",
      "metadata": {
        "id": "9QcMz6H9MdXu",
        "colab_type": "text"
      },
      "source": [
        "#**As mulheres negras morrem mais, compõem 64% do total de homicídios por agressão registrados em nosso sistema durante a série decenal.**"
      ]
    },
    {
      "cell_type": "markdown",
      "metadata": {
        "id": "tLNvdzdKX5VD",
        "colab_type": "text"
      },
      "source": [
        "**Abaixo conseguimos visualizar graficamente essa disparidade.**\n",
        "\n",
        "**Observamos uma forte tendência de aumento dos homicídios de mulheres negras ao longo dos anos, enquanto que para o grupo de mulheres de outras raças, observa-se uma leve tendência de queda.**"
      ]
    },
    {
      "cell_type": "code",
      "metadata": {
        "id": "z9hQUAWmAQjN",
        "colab_type": "code",
        "colab": {
          "base_uri": "https://localhost:8080/",
          "height": 522
        },
        "outputId": "4317b47f-47f4-4ab9-94d8-5b256a0b73bc"
      },
      "source": [
        "#definindo o eixo X - os anos de observação\n",
        "x=[2008,2009,2010,2011,2012,2013,2014,2015,2016,2017,2018]\n",
        "\n",
        "#definindo as variaveis do eixo Y: os homicídios por agressão de mulheres negras e os homicídios por agressão de mulheres de outras raças.\n",
        "y1=fem_por_raca.vitimas_raca_negra\n",
        "y2=fem_por_raca.vitimas_outras_racas\n",
        "\n",
        "#plotando as duas trajetórias\n",
        "\n",
        "figura= plt.figure(figsize=(11,7.8))\n",
        "figura= plt.plot(x,y1,ls='-',label='vítimas de raça negra')\n",
        "figura= plt.plot(x,y2,ls='-',label='vítimas de raça branca/indígena/amarela')\n",
        "plt.title('Homicidios anuais de mulheres discriminados por raça/ 2008 a 2018', fontsize= 18)\n",
        "plt.xlabel('Anos', fontsize= 15, labelpad= 15)\n",
        "plt.ylabel('Homicidios de mulheres por agressão', fontsize= 15, labelpad= 15)\n",
        "\n",
        "plt.legend()\n",
        "plt.show()\n"
      ],
      "execution_count": 52,
      "outputs": [
        {
          "output_type": "display_data",
          "data": {
            "image/png": "[encoded data removed]",
            "text/plain": [
              "<Figure size 792x561.6 with 1 Axes>"
            ]
          },
          "metadata": {
            "tags": [],
            "needs_background": "light"
          }
        }
      ]
    },
    {
      "cell_type": "markdown",
      "metadata": {
        "id": "W5T8TpFkNU_6",
        "colab_type": "text"
      },
      "source": [
        "**Importante ressaltar que observar os dados com tais discriminações tem um único objetivo: nos questionarmos! O fato é que ao longo dos anos as autoridades brasileiras vem implementando diversas medidas para diminuir suas taxas de feminicídio, o que é importante, mas observar tais dados nos incita a questionar se essas tomadas de decisão estão sendo universalizadas para todos os grupos de mulheres.**\n",
        " \n",
        "**E observar os dados é um ótimo primeiro passo para que a sociedade possa cobrar mudanças ou melhorias de políticas, programas e leis públicas que lidam com o tema.**\n",
        "\n"
      ]
    },
    {
      "cell_type": "markdown",
      "metadata": {
        "id": "A1589T2AHMkT",
        "colab_type": "text"
      },
      "source": [
        "**Outras considerações**\n",
        "\n",
        "**Não se sabe se essas trajetórias de crescimento das taxas de homicídio por agressão refletem um real aumento das taxas de feminicídio, uma vez que a classificação internacional de doenças (CID), utilizada pelo Ministério da Saúde para gerar os dados, não lida com questões de tipificação legal dos crimes e muito menos com a motivação que gerou a agressão ocorrida de morte. Além disso, o aumento dos registros pode refletir efetivamente um aumento do número de casos ou uma diminuição das subnotificações por parte das polícias, que são os responsáveis por gerarem os dados locais.**\n",
        "\n",
        "**Entretanto, microdados da saúde disponíveis a sociedade que indicam o número de mortes violentas intencionais dentro das residências das próprias vítimas é uma boa proxy para medir o feminicídio, uma vez que a literatura internacional reconhece que a maioria dessas mortes violentas dentro das residências são perpetradas por conhecidos ou íntimos das vítimas. E mesmo que o número real de feminicídios não seja igual ao número de mulheres mortas dentro das residências, uma vez que muitas das ocorrências ocorrem fora das residências, tal proxy pode servir como base para a evolução das taxas de feminicídio no país.**\n",
        "\n",
        "**Vamos então analisar esses dados.**"
      ]
    },
    {
      "cell_type": "code",
      "metadata": {
        "id": "uV3Qwn4y280u",
        "colab_type": "code",
        "colab": {
          "base_uri": "https://localhost:8080/",
          "height": 593
        },
        "outputId": "8826b485-3f80-44c5-ccb5-581a7f73a536"
      },
      "source": [
        "#lendo o banco de dados, definindo a leitura do dataset em forma de dados tabulares, versão latino americana e sem um cabeçalho\n",
        "fem_por_local=pd.read_csv('/content/fem_por_local.csv',encoding='latin-1',sep='\\t',header=None)\n",
        "fem_por_local.head(20)"
      ],
      "execution_count": null,
      "outputs": [
        {
          "output_type": "execute_result",
          "data": {
            "text/html": [
              "<div>\n",
              "<style scoped>\n",
              "    .dataframe tbody tr th:only-of-type {\n",
              "        vertical-align: middle;\n",
              "    }\n",
              "\n",
              "    .dataframe tbody tr th {\n",
              "        vertical-align: top;\n",
              "    }\n",
              "\n",
              "    .dataframe thead th {\n",
              "        text-align: right;\n",
              "    }\n",
              "</style>\n",
              "<table border=\"1\" class=\"dataframe\">\n",
              "  <thead>\n",
              "    <tr style=\"text-align: right;\">\n",
              "      <th></th>\n",
              "      <th>0</th>\n",
              "    </tr>\n",
              "  </thead>\n",
              "  <tbody>\n",
              "    <tr>\n",
              "      <th>0</th>\n",
              "      <td>Óbitos por Causas Externas - Brasil</td>\n",
              "    </tr>\n",
              "    <tr>\n",
              "      <th>1</th>\n",
              "      <td>Óbitos p/Residênc por Local ocorrência e Ano d...</td>\n",
              "    </tr>\n",
              "    <tr>\n",
              "      <th>2</th>\n",
              "      <td>Grande Grupo CID10: X85-Y09 Agressões</td>\n",
              "    </tr>\n",
              "    <tr>\n",
              "      <th>3</th>\n",
              "      <td>Sexo: Fem</td>\n",
              "    </tr>\n",
              "    <tr>\n",
              "      <th>4</th>\n",
              "      <td>Período:2008-2018</td>\n",
              "    </tr>\n",
              "    <tr>\n",
              "      <th>5</th>\n",
              "      <td>Local ocorrência;\"2008\";\"2009\";\"2010\";\"2011\";\"...</td>\n",
              "    </tr>\n",
              "    <tr>\n",
              "      <th>6</th>\n",
              "      <td>Hospital;1002;1031;1071;1028;1139;1123;1121;10...</td>\n",
              "    </tr>\n",
              "    <tr>\n",
              "      <th>7</th>\n",
              "      <td>Outro estabelecimento de saúde;58;74;61;68;87;...</td>\n",
              "    </tr>\n",
              "    <tr>\n",
              "      <th>8</th>\n",
              "      <td>Domicílio;1164;1199;1293;1295;1311;1290;1319;1...</td>\n",
              "    </tr>\n",
              "    <tr>\n",
              "      <th>9</th>\n",
              "      <td>Via pública;1179;1310;1339;1430;1405;1488;1462...</td>\n",
              "    </tr>\n",
              "    <tr>\n",
              "      <th>10</th>\n",
              "      <td>Outros;568;599;657;656;753;748;792;759;751;960...</td>\n",
              "    </tr>\n",
              "    <tr>\n",
              "      <th>11</th>\n",
              "      <td>Ignorado;52;47;44;35;24;36;41;31;37;31;15;393</td>\n",
              "    </tr>\n",
              "    <tr>\n",
              "      <th>12</th>\n",
              "      <td>Total;4023;4260;4465;4512;4719;4762;4832;4616;...</td>\n",
              "    </tr>\n",
              "    <tr>\n",
              "      <th>13</th>\n",
              "      <td>Fonte: MS/SVS/CGIAE - Sistema de Informações ...</td>\n",
              "    </tr>\n",
              "    <tr>\n",
              "      <th>14</th>\n",
              "      <td>Nota:</td>\n",
              "    </tr>\n",
              "    <tr>\n",
              "      <th>15</th>\n",
              "      <td>Em 2011, houve uma mudança no conteúdo da Dec...</td>\n",
              "    </tr>\n",
              "    <tr>\n",
              "      <th>16</th>\n",
              "      <td>utilizados simultaneamente os dois formulário...</td>\n",
              "    </tr>\n",
              "    <tr>\n",
              "      <th>17</th>\n",
              "      <td>\"Sistema de Informações sobre Mortalidade - S...</td>\n",
              "    </tr>\n",
              "    <tr>\n",
              "      <th>18</th>\n",
              "      <td>No dia 13/06/2019, os arquivos do SIM referen...</td>\n",
              "    </tr>\n",
              "  </tbody>\n",
              "</table>\n",
              "</div>"
            ],
            "text/plain": [
              "                                                    0\n",
              "0                 Óbitos por Causas Externas - Brasil\n",
              "1   Óbitos p/Residênc por Local ocorrência e Ano d...\n",
              "2               Grande Grupo CID10: X85-Y09 Agressões\n",
              "3                                           Sexo: Fem\n",
              "4                                   Período:2008-2018\n",
              "5   Local ocorrência;\"2008\";\"2009\";\"2010\";\"2011\";\"...\n",
              "6   Hospital;1002;1031;1071;1028;1139;1123;1121;10...\n",
              "7   Outro estabelecimento de saúde;58;74;61;68;87;...\n",
              "8   Domicílio;1164;1199;1293;1295;1311;1290;1319;1...\n",
              "9   Via pública;1179;1310;1339;1430;1405;1488;1462...\n",
              "10  Outros;568;599;657;656;753;748;792;759;751;960...\n",
              "11      Ignorado;52;47;44;35;24;36;41;31;37;31;15;393\n",
              "12  Total;4023;4260;4465;4512;4719;4762;4832;4616;...\n",
              "13   Fonte: MS/SVS/CGIAE - Sistema de Informações ...\n",
              "14                                              Nota:\n",
              "15   Em 2011, houve uma mudança no conteúdo da Dec...\n",
              "16   utilizados simultaneamente os dois formulário...\n",
              "17   \"Sistema de Informações sobre Mortalidade - S...\n",
              "18   No dia 13/06/2019, os arquivos do SIM referen..."
            ]
          },
          "metadata": {
            "tags": []
          },
          "execution_count": 134
        }
      ]
    },
    {
      "cell_type": "markdown",
      "metadata": {
        "id": "ChnLaGHiNGLw",
        "colab_type": "text"
      },
      "source": [
        "**- Antes de tratar os dados corretamente, verifica-se que cada coluna se refere a um ano de observação dos dados.**\n",
        "\n",
        "**- Já nas linhas temos o local de registro dos homicídios.**\n",
        "\n",
        "**- Logo vamos ler o arquivo de forma a definir o cabeçalho como o local das mortes e os anos de observação, definir o separador dos dados e a versão de leitura latino-americana.**"
      ]
    },
    {
      "cell_type": "code",
      "metadata": {
        "id": "zqX0wFVb3ZGc",
        "colab_type": "code",
        "colab": {
          "base_uri": "https://localhost:8080/",
          "height": 593
        },
        "outputId": "5ddcfab5-18fd-4a21-e9d4-daf9c65005f9"
      },
      "source": [
        "#definindo na leitura dos dados um cabeçalho, que serão os anos de registro dessas mortes por local de ocorrência, o separador e a versão de leitura.\n",
        "fem_por_local=pd.read_csv('/content/fem_por_local.csv',encoding='latin-1',sep=';',\n",
        "                          header=None,names=['Local_morte','2008','2009','2010','2011','2012','2013','2014','2015','2016','2017','2018'])\n",
        "fem_por_local.head(20)"
      ],
      "execution_count": null,
      "outputs": [
        {
          "output_type": "execute_result",
          "data": {
            "text/html": [
              "<div>\n",
              "<style scoped>\n",
              "    .dataframe tbody tr th:only-of-type {\n",
              "        vertical-align: middle;\n",
              "    }\n",
              "\n",
              "    .dataframe tbody tr th {\n",
              "        vertical-align: top;\n",
              "    }\n",
              "\n",
              "    .dataframe thead th {\n",
              "        text-align: right;\n",
              "    }\n",
              "</style>\n",
              "<table border=\"1\" class=\"dataframe\">\n",
              "  <thead>\n",
              "    <tr style=\"text-align: right;\">\n",
              "      <th></th>\n",
              "      <th>Local_morte</th>\n",
              "      <th>2008</th>\n",
              "      <th>2009</th>\n",
              "      <th>2010</th>\n",
              "      <th>2011</th>\n",
              "      <th>2012</th>\n",
              "      <th>2013</th>\n",
              "      <th>2014</th>\n",
              "      <th>2015</th>\n",
              "      <th>2016</th>\n",
              "      <th>2017</th>\n",
              "      <th>2018</th>\n",
              "    </tr>\n",
              "  </thead>\n",
              "  <tbody>\n",
              "    <tr>\n",
              "      <th>0</th>\n",
              "      <td>Óbitos por Causas Externas - Brasil</td>\n",
              "      <td>NaN</td>\n",
              "      <td>NaN</td>\n",
              "      <td>NaN</td>\n",
              "      <td>NaN</td>\n",
              "      <td>NaN</td>\n",
              "      <td>NaN</td>\n",
              "      <td>NaN</td>\n",
              "      <td>NaN</td>\n",
              "      <td>NaN</td>\n",
              "      <td>NaN</td>\n",
              "      <td>NaN</td>\n",
              "    </tr>\n",
              "    <tr>\n",
              "      <th>1</th>\n",
              "      <td>Óbitos p/Residênc por Local ocorrência e Ano d...</td>\n",
              "      <td>NaN</td>\n",
              "      <td>NaN</td>\n",
              "      <td>NaN</td>\n",
              "      <td>NaN</td>\n",
              "      <td>NaN</td>\n",
              "      <td>NaN</td>\n",
              "      <td>NaN</td>\n",
              "      <td>NaN</td>\n",
              "      <td>NaN</td>\n",
              "      <td>NaN</td>\n",
              "      <td>NaN</td>\n",
              "    </tr>\n",
              "    <tr>\n",
              "      <th>2</th>\n",
              "      <td>Grande Grupo CID10: X85-Y09 Agressões</td>\n",
              "      <td>NaN</td>\n",
              "      <td>NaN</td>\n",
              "      <td>NaN</td>\n",
              "      <td>NaN</td>\n",
              "      <td>NaN</td>\n",
              "      <td>NaN</td>\n",
              "      <td>NaN</td>\n",
              "      <td>NaN</td>\n",
              "      <td>NaN</td>\n",
              "      <td>NaN</td>\n",
              "      <td>NaN</td>\n",
              "    </tr>\n",
              "    <tr>\n",
              "      <th>3</th>\n",
              "      <td>Sexo: Fem</td>\n",
              "      <td>NaN</td>\n",
              "      <td>NaN</td>\n",
              "      <td>NaN</td>\n",
              "      <td>NaN</td>\n",
              "      <td>NaN</td>\n",
              "      <td>NaN</td>\n",
              "      <td>NaN</td>\n",
              "      <td>NaN</td>\n",
              "      <td>NaN</td>\n",
              "      <td>NaN</td>\n",
              "      <td>NaN</td>\n",
              "    </tr>\n",
              "    <tr>\n",
              "      <th>4</th>\n",
              "      <td>Período:2008-2018</td>\n",
              "      <td>NaN</td>\n",
              "      <td>NaN</td>\n",
              "      <td>NaN</td>\n",
              "      <td>NaN</td>\n",
              "      <td>NaN</td>\n",
              "      <td>NaN</td>\n",
              "      <td>NaN</td>\n",
              "      <td>NaN</td>\n",
              "      <td>NaN</td>\n",
              "      <td>NaN</td>\n",
              "      <td>NaN</td>\n",
              "    </tr>\n",
              "    <tr>\n",
              "      <th>5</th>\n",
              "      <td>Local ocorrência</td>\n",
              "      <td>2008.0</td>\n",
              "      <td>2009.0</td>\n",
              "      <td>2010.0</td>\n",
              "      <td>2011.0</td>\n",
              "      <td>2012.0</td>\n",
              "      <td>2013.0</td>\n",
              "      <td>2014.0</td>\n",
              "      <td>2015.0</td>\n",
              "      <td>2016.0</td>\n",
              "      <td>2017.0</td>\n",
              "      <td>2018.0</td>\n",
              "    </tr>\n",
              "    <tr>\n",
              "      <th>6</th>\n",
              "      <td>Hospital</td>\n",
              "      <td>1002.0</td>\n",
              "      <td>1031.0</td>\n",
              "      <td>1071.0</td>\n",
              "      <td>1028.0</td>\n",
              "      <td>1139.0</td>\n",
              "      <td>1123.0</td>\n",
              "      <td>1121.0</td>\n",
              "      <td>1041.0</td>\n",
              "      <td>1044.0</td>\n",
              "      <td>1022.0</td>\n",
              "      <td>905.0</td>\n",
              "    </tr>\n",
              "    <tr>\n",
              "      <th>7</th>\n",
              "      <td>Outro estabelecimento de saúde</td>\n",
              "      <td>58.0</td>\n",
              "      <td>74.0</td>\n",
              "      <td>61.0</td>\n",
              "      <td>68.0</td>\n",
              "      <td>87.0</td>\n",
              "      <td>77.0</td>\n",
              "      <td>97.0</td>\n",
              "      <td>83.0</td>\n",
              "      <td>93.0</td>\n",
              "      <td>95.0</td>\n",
              "      <td>102.0</td>\n",
              "    </tr>\n",
              "    <tr>\n",
              "      <th>8</th>\n",
              "      <td>Domicílio</td>\n",
              "      <td>1164.0</td>\n",
              "      <td>1199.0</td>\n",
              "      <td>1293.0</td>\n",
              "      <td>1295.0</td>\n",
              "      <td>1311.0</td>\n",
              "      <td>1290.0</td>\n",
              "      <td>1319.0</td>\n",
              "      <td>1307.0</td>\n",
              "      <td>1393.0</td>\n",
              "      <td>1383.0</td>\n",
              "      <td>1322.0</td>\n",
              "    </tr>\n",
              "    <tr>\n",
              "      <th>9</th>\n",
              "      <td>Via pública</td>\n",
              "      <td>1179.0</td>\n",
              "      <td>1310.0</td>\n",
              "      <td>1339.0</td>\n",
              "      <td>1430.0</td>\n",
              "      <td>1405.0</td>\n",
              "      <td>1488.0</td>\n",
              "      <td>1462.0</td>\n",
              "      <td>1395.0</td>\n",
              "      <td>1317.0</td>\n",
              "      <td>1437.0</td>\n",
              "      <td>1384.0</td>\n",
              "    </tr>\n",
              "    <tr>\n",
              "      <th>10</th>\n",
              "      <td>Outros</td>\n",
              "      <td>568.0</td>\n",
              "      <td>599.0</td>\n",
              "      <td>657.0</td>\n",
              "      <td>656.0</td>\n",
              "      <td>753.0</td>\n",
              "      <td>748.0</td>\n",
              "      <td>792.0</td>\n",
              "      <td>759.0</td>\n",
              "      <td>751.0</td>\n",
              "      <td>960.0</td>\n",
              "      <td>784.0</td>\n",
              "    </tr>\n",
              "    <tr>\n",
              "      <th>11</th>\n",
              "      <td>Ignorado</td>\n",
              "      <td>52.0</td>\n",
              "      <td>47.0</td>\n",
              "      <td>44.0</td>\n",
              "      <td>35.0</td>\n",
              "      <td>24.0</td>\n",
              "      <td>36.0</td>\n",
              "      <td>41.0</td>\n",
              "      <td>31.0</td>\n",
              "      <td>37.0</td>\n",
              "      <td>31.0</td>\n",
              "      <td>15.0</td>\n",
              "    </tr>\n",
              "    <tr>\n",
              "      <th>12</th>\n",
              "      <td>Total</td>\n",
              "      <td>4023.0</td>\n",
              "      <td>4260.0</td>\n",
              "      <td>4465.0</td>\n",
              "      <td>4512.0</td>\n",
              "      <td>4719.0</td>\n",
              "      <td>4762.0</td>\n",
              "      <td>4832.0</td>\n",
              "      <td>4616.0</td>\n",
              "      <td>4635.0</td>\n",
              "      <td>4928.0</td>\n",
              "      <td>4512.0</td>\n",
              "    </tr>\n",
              "    <tr>\n",
              "      <th>13</th>\n",
              "      <td>Fonte: MS/SVS/CGIAE - Sistema de Informações ...</td>\n",
              "      <td>NaN</td>\n",
              "      <td>NaN</td>\n",
              "      <td>NaN</td>\n",
              "      <td>NaN</td>\n",
              "      <td>NaN</td>\n",
              "      <td>NaN</td>\n",
              "      <td>NaN</td>\n",
              "      <td>NaN</td>\n",
              "      <td>NaN</td>\n",
              "      <td>NaN</td>\n",
              "      <td>NaN</td>\n",
              "    </tr>\n",
              "    <tr>\n",
              "      <th>14</th>\n",
              "      <td>Nota:</td>\n",
              "      <td>NaN</td>\n",
              "      <td>NaN</td>\n",
              "      <td>NaN</td>\n",
              "      <td>NaN</td>\n",
              "      <td>NaN</td>\n",
              "      <td>NaN</td>\n",
              "      <td>NaN</td>\n",
              "      <td>NaN</td>\n",
              "      <td>NaN</td>\n",
              "      <td>NaN</td>\n",
              "      <td>NaN</td>\n",
              "    </tr>\n",
              "    <tr>\n",
              "      <th>15</th>\n",
              "      <td>Em 2011, houve uma mudança no conteúdo da Dec...</td>\n",
              "      <td>NaN</td>\n",
              "      <td>NaN</td>\n",
              "      <td>NaN</td>\n",
              "      <td>NaN</td>\n",
              "      <td>NaN</td>\n",
              "      <td>NaN</td>\n",
              "      <td>NaN</td>\n",
              "      <td>NaN</td>\n",
              "      <td>NaN</td>\n",
              "      <td>NaN</td>\n",
              "      <td>NaN</td>\n",
              "    </tr>\n",
              "    <tr>\n",
              "      <th>16</th>\n",
              "      <td>utilizados simultaneamente os dois formulário...</td>\n",
              "      <td>NaN</td>\n",
              "      <td>NaN</td>\n",
              "      <td>NaN</td>\n",
              "      <td>NaN</td>\n",
              "      <td>NaN</td>\n",
              "      <td>NaN</td>\n",
              "      <td>NaN</td>\n",
              "      <td>NaN</td>\n",
              "      <td>NaN</td>\n",
              "      <td>NaN</td>\n",
              "      <td>NaN</td>\n",
              "    </tr>\n",
              "    <tr>\n",
              "      <th>17</th>\n",
              "      <td>\"Sistema de Informações sobre Mortalidade - S...</td>\n",
              "      <td>NaN</td>\n",
              "      <td>NaN</td>\n",
              "      <td>NaN</td>\n",
              "      <td>NaN</td>\n",
              "      <td>NaN</td>\n",
              "      <td>NaN</td>\n",
              "      <td>NaN</td>\n",
              "      <td>NaN</td>\n",
              "      <td>NaN</td>\n",
              "      <td>NaN</td>\n",
              "      <td>NaN</td>\n",
              "    </tr>\n",
              "    <tr>\n",
              "      <th>18</th>\n",
              "      <td>No dia 13/06/2019, os arquivos do SIM referen...</td>\n",
              "      <td>NaN</td>\n",
              "      <td>NaN</td>\n",
              "      <td>NaN</td>\n",
              "      <td>NaN</td>\n",
              "      <td>NaN</td>\n",
              "      <td>NaN</td>\n",
              "      <td>NaN</td>\n",
              "      <td>NaN</td>\n",
              "      <td>NaN</td>\n",
              "      <td>NaN</td>\n",
              "      <td>NaN</td>\n",
              "    </tr>\n",
              "  </tbody>\n",
              "</table>\n",
              "</div>"
            ],
            "text/plain": [
              "                                          Local_morte    2008  ...    2017    2018\n",
              "0                 Óbitos por Causas Externas - Brasil     NaN  ...     NaN     NaN\n",
              "1   Óbitos p/Residênc por Local ocorrência e Ano d...     NaN  ...     NaN     NaN\n",
              "2               Grande Grupo CID10: X85-Y09 Agressões     NaN  ...     NaN     NaN\n",
              "3                                           Sexo: Fem     NaN  ...     NaN     NaN\n",
              "4                                   Período:2008-2018     NaN  ...     NaN     NaN\n",
              "5                                    Local ocorrência  2008.0  ...  2017.0  2018.0\n",
              "6                                            Hospital  1002.0  ...  1022.0   905.0\n",
              "7                      Outro estabelecimento de saúde    58.0  ...    95.0   102.0\n",
              "8                                           Domicílio  1164.0  ...  1383.0  1322.0\n",
              "9                                         Via pública  1179.0  ...  1437.0  1384.0\n",
              "10                                             Outros   568.0  ...   960.0   784.0\n",
              "11                                           Ignorado    52.0  ...    31.0    15.0\n",
              "12                                              Total  4023.0  ...  4928.0  4512.0\n",
              "13   Fonte: MS/SVS/CGIAE - Sistema de Informações ...     NaN  ...     NaN     NaN\n",
              "14                                              Nota:     NaN  ...     NaN     NaN\n",
              "15   Em 2011, houve uma mudança no conteúdo da Dec...     NaN  ...     NaN     NaN\n",
              "16   utilizados simultaneamente os dois formulário...     NaN  ...     NaN     NaN\n",
              "17   \"Sistema de Informações sobre Mortalidade - S...     NaN  ...     NaN     NaN\n",
              "18   No dia 13/06/2019, os arquivos do SIM referen...     NaN  ...     NaN     NaN\n",
              "\n",
              "[19 rows x 12 columns]"
            ]
          },
          "metadata": {
            "tags": []
          },
          "execution_count": 135
        }
      ]
    },
    {
      "cell_type": "code",
      "metadata": {
        "id": "yaWI4g-EORGe",
        "colab_type": "code",
        "colab": {
          "base_uri": "https://localhost:8080/",
          "height": 248
        },
        "outputId": "a8d39875-07fb-450a-fac5-c1650c855bc4"
      },
      "source": [
        "#excluindo as linhas desnecessárias a análise\n",
        "fem_por_local=fem_por_local.drop([0,1,2,3,4,5,13,14,15,16,17,18],axis=0)\n",
        "fem_por_local.head(15)"
      ],
      "execution_count": null,
      "outputs": [
        {
          "output_type": "execute_result",
          "data": {
            "text/html": [
              "<div>\n",
              "<style scoped>\n",
              "    .dataframe tbody tr th:only-of-type {\n",
              "        vertical-align: middle;\n",
              "    }\n",
              "\n",
              "    .dataframe tbody tr th {\n",
              "        vertical-align: top;\n",
              "    }\n",
              "\n",
              "    .dataframe thead th {\n",
              "        text-align: right;\n",
              "    }\n",
              "</style>\n",
              "<table border=\"1\" class=\"dataframe\">\n",
              "  <thead>\n",
              "    <tr style=\"text-align: right;\">\n",
              "      <th></th>\n",
              "      <th>Local_morte</th>\n",
              "      <th>2008</th>\n",
              "      <th>2009</th>\n",
              "      <th>2010</th>\n",
              "      <th>2011</th>\n",
              "      <th>2012</th>\n",
              "      <th>2013</th>\n",
              "      <th>2014</th>\n",
              "      <th>2015</th>\n",
              "      <th>2016</th>\n",
              "      <th>2017</th>\n",
              "      <th>2018</th>\n",
              "    </tr>\n",
              "  </thead>\n",
              "  <tbody>\n",
              "    <tr>\n",
              "      <th>6</th>\n",
              "      <td>Hospital</td>\n",
              "      <td>1002.0</td>\n",
              "      <td>1031.0</td>\n",
              "      <td>1071.0</td>\n",
              "      <td>1028.0</td>\n",
              "      <td>1139.0</td>\n",
              "      <td>1123.0</td>\n",
              "      <td>1121.0</td>\n",
              "      <td>1041.0</td>\n",
              "      <td>1044.0</td>\n",
              "      <td>1022.0</td>\n",
              "      <td>905.0</td>\n",
              "    </tr>\n",
              "    <tr>\n",
              "      <th>7</th>\n",
              "      <td>Outro estabelecimento de saúde</td>\n",
              "      <td>58.0</td>\n",
              "      <td>74.0</td>\n",
              "      <td>61.0</td>\n",
              "      <td>68.0</td>\n",
              "      <td>87.0</td>\n",
              "      <td>77.0</td>\n",
              "      <td>97.0</td>\n",
              "      <td>83.0</td>\n",
              "      <td>93.0</td>\n",
              "      <td>95.0</td>\n",
              "      <td>102.0</td>\n",
              "    </tr>\n",
              "    <tr>\n",
              "      <th>8</th>\n",
              "      <td>Domicílio</td>\n",
              "      <td>1164.0</td>\n",
              "      <td>1199.0</td>\n",
              "      <td>1293.0</td>\n",
              "      <td>1295.0</td>\n",
              "      <td>1311.0</td>\n",
              "      <td>1290.0</td>\n",
              "      <td>1319.0</td>\n",
              "      <td>1307.0</td>\n",
              "      <td>1393.0</td>\n",
              "      <td>1383.0</td>\n",
              "      <td>1322.0</td>\n",
              "    </tr>\n",
              "    <tr>\n",
              "      <th>9</th>\n",
              "      <td>Via pública</td>\n",
              "      <td>1179.0</td>\n",
              "      <td>1310.0</td>\n",
              "      <td>1339.0</td>\n",
              "      <td>1430.0</td>\n",
              "      <td>1405.0</td>\n",
              "      <td>1488.0</td>\n",
              "      <td>1462.0</td>\n",
              "      <td>1395.0</td>\n",
              "      <td>1317.0</td>\n",
              "      <td>1437.0</td>\n",
              "      <td>1384.0</td>\n",
              "    </tr>\n",
              "    <tr>\n",
              "      <th>10</th>\n",
              "      <td>Outros</td>\n",
              "      <td>568.0</td>\n",
              "      <td>599.0</td>\n",
              "      <td>657.0</td>\n",
              "      <td>656.0</td>\n",
              "      <td>753.0</td>\n",
              "      <td>748.0</td>\n",
              "      <td>792.0</td>\n",
              "      <td>759.0</td>\n",
              "      <td>751.0</td>\n",
              "      <td>960.0</td>\n",
              "      <td>784.0</td>\n",
              "    </tr>\n",
              "    <tr>\n",
              "      <th>11</th>\n",
              "      <td>Ignorado</td>\n",
              "      <td>52.0</td>\n",
              "      <td>47.0</td>\n",
              "      <td>44.0</td>\n",
              "      <td>35.0</td>\n",
              "      <td>24.0</td>\n",
              "      <td>36.0</td>\n",
              "      <td>41.0</td>\n",
              "      <td>31.0</td>\n",
              "      <td>37.0</td>\n",
              "      <td>31.0</td>\n",
              "      <td>15.0</td>\n",
              "    </tr>\n",
              "    <tr>\n",
              "      <th>12</th>\n",
              "      <td>Total</td>\n",
              "      <td>4023.0</td>\n",
              "      <td>4260.0</td>\n",
              "      <td>4465.0</td>\n",
              "      <td>4512.0</td>\n",
              "      <td>4719.0</td>\n",
              "      <td>4762.0</td>\n",
              "      <td>4832.0</td>\n",
              "      <td>4616.0</td>\n",
              "      <td>4635.0</td>\n",
              "      <td>4928.0</td>\n",
              "      <td>4512.0</td>\n",
              "    </tr>\n",
              "  </tbody>\n",
              "</table>\n",
              "</div>"
            ],
            "text/plain": [
              "                       Local_morte    2008    2009  ...    2016    2017    2018\n",
              "6                         Hospital  1002.0  1031.0  ...  1044.0  1022.0   905.0\n",
              "7   Outro estabelecimento de saúde    58.0    74.0  ...    93.0    95.0   102.0\n",
              "8                        Domicílio  1164.0  1199.0  ...  1393.0  1383.0  1322.0\n",
              "9                      Via pública  1179.0  1310.0  ...  1317.0  1437.0  1384.0\n",
              "10                          Outros   568.0   599.0  ...   751.0   960.0   784.0\n",
              "11                        Ignorado    52.0    47.0  ...    37.0    31.0    15.0\n",
              "12                           Total  4023.0  4260.0  ...  4635.0  4928.0  4512.0\n",
              "\n",
              "[7 rows x 12 columns]"
            ]
          },
          "metadata": {
            "tags": []
          },
          "execution_count": 136
        }
      ]
    },
    {
      "cell_type": "markdown",
      "metadata": {
        "id": "mbOrGX16OXIf",
        "colab_type": "text"
      },
      "source": [
        "**Reparemos um erro: os dados foram extraídos como se fossem números flutuantes. Para corrigir tal problema foi conveniente usar a função round para arredondar esses dados, o que significa cortar a casa decimal depois do ponto, e então trasnformar o formato desses dados para séries de inteiros.**"
      ]
    },
    {
      "cell_type": "code",
      "metadata": {
        "id": "-VPvLtYn47vh",
        "colab_type": "code",
        "colab": {
          "base_uri": "https://localhost:8080/",
          "height": 228
        },
        "outputId": "7d097cad-bb6a-43a9-a98a-de56cd12e763"
      },
      "source": [
        "#visualizando o formato dos dados de cada coluna\n",
        "fem_por_local.dtypes"
      ],
      "execution_count": null,
      "outputs": [
        {
          "output_type": "execute_result",
          "data": {
            "text/plain": [
              "Local_morte     object\n",
              "2008           float64\n",
              "2009           float64\n",
              "2010           float64\n",
              "2011           float64\n",
              "2012           float64\n",
              "2013           float64\n",
              "2014           float64\n",
              "2015           float64\n",
              "2016           float64\n",
              "2017           float64\n",
              "2018           float64\n",
              "dtype: object"
            ]
          },
          "metadata": {
            "tags": []
          },
          "execution_count": 137
        }
      ]
    },
    {
      "cell_type": "code",
      "metadata": {
        "id": "28zL-wrZWVOd",
        "colab_type": "code",
        "colab": {
          "base_uri": "https://localhost:8080/",
          "height": 248
        },
        "outputId": "8ba512da-7d96-4818-f8fa-6caa9506658e"
      },
      "source": [
        "#utilizando a biblioteca numpy, arredondamos os dados e logo após os transformamos em séries de inteiros. Coluna por coluna. \n",
        "fem_por_local['2008']=(round(fem_por_local['2008'])).values.astype(np.int64)\n",
        "fem_por_local['2009']=(round(fem_por_local['2009'])).values.astype(np.int64)\n",
        "fem_por_local['2010']=(round(fem_por_local['2010'])).values.astype(np.int64)\n",
        "fem_por_local['2011']=(round(fem_por_local['2011'])).values.astype(np.int64)\n",
        "fem_por_local['2012']=(round(fem_por_local['2012'])).values.astype(np.int64)\n",
        "fem_por_local['2013']=(round(fem_por_local['2013'])).values.astype(np.int64)\n",
        "fem_por_local['2014']=(round(fem_por_local['2014'])).values.astype(np.int64)\n",
        "fem_por_local['2015']=(round(fem_por_local['2015'])).values.astype(np.int64)\n",
        "fem_por_local['2016']=(round(fem_por_local['2016'])).values.astype(np.int64)\n",
        "fem_por_local['2017']=(round(fem_por_local['2017'])).values.astype(np.int64)\n",
        "fem_por_local['2018']=(round(fem_por_local['2018'])).values.astype(np.int64)\n",
        "\n",
        "#visualizando o novo DataSet\n",
        "fem_por_local.head(10)"
      ],
      "execution_count": null,
      "outputs": [
        {
          "output_type": "execute_result",
          "data": {
            "text/html": [
              "<div>\n",
              "<style scoped>\n",
              "    .dataframe tbody tr th:only-of-type {\n",
              "        vertical-align: middle;\n",
              "    }\n",
              "\n",
              "    .dataframe tbody tr th {\n",
              "        vertical-align: top;\n",
              "    }\n",
              "\n",
              "    .dataframe thead th {\n",
              "        text-align: right;\n",
              "    }\n",
              "</style>\n",
              "<table border=\"1\" class=\"dataframe\">\n",
              "  <thead>\n",
              "    <tr style=\"text-align: right;\">\n",
              "      <th></th>\n",
              "      <th>Local_morte</th>\n",
              "      <th>2008</th>\n",
              "      <th>2009</th>\n",
              "      <th>2010</th>\n",
              "      <th>2011</th>\n",
              "      <th>2012</th>\n",
              "      <th>2013</th>\n",
              "      <th>2014</th>\n",
              "      <th>2015</th>\n",
              "      <th>2016</th>\n",
              "      <th>2017</th>\n",
              "      <th>2018</th>\n",
              "    </tr>\n",
              "  </thead>\n",
              "  <tbody>\n",
              "    <tr>\n",
              "      <th>6</th>\n",
              "      <td>Hospital</td>\n",
              "      <td>1002</td>\n",
              "      <td>1031</td>\n",
              "      <td>1071</td>\n",
              "      <td>1028</td>\n",
              "      <td>1139</td>\n",
              "      <td>1123</td>\n",
              "      <td>1121</td>\n",
              "      <td>1041</td>\n",
              "      <td>1044</td>\n",
              "      <td>1022</td>\n",
              "      <td>905</td>\n",
              "    </tr>\n",
              "    <tr>\n",
              "      <th>7</th>\n",
              "      <td>Outro estabelecimento de saúde</td>\n",
              "      <td>58</td>\n",
              "      <td>74</td>\n",
              "      <td>61</td>\n",
              "      <td>68</td>\n",
              "      <td>87</td>\n",
              "      <td>77</td>\n",
              "      <td>97</td>\n",
              "      <td>83</td>\n",
              "      <td>93</td>\n",
              "      <td>95</td>\n",
              "      <td>102</td>\n",
              "    </tr>\n",
              "    <tr>\n",
              "      <th>8</th>\n",
              "      <td>Domicílio</td>\n",
              "      <td>1164</td>\n",
              "      <td>1199</td>\n",
              "      <td>1293</td>\n",
              "      <td>1295</td>\n",
              "      <td>1311</td>\n",
              "      <td>1290</td>\n",
              "      <td>1319</td>\n",
              "      <td>1307</td>\n",
              "      <td>1393</td>\n",
              "      <td>1383</td>\n",
              "      <td>1322</td>\n",
              "    </tr>\n",
              "    <tr>\n",
              "      <th>9</th>\n",
              "      <td>Via pública</td>\n",
              "      <td>1179</td>\n",
              "      <td>1310</td>\n",
              "      <td>1339</td>\n",
              "      <td>1430</td>\n",
              "      <td>1405</td>\n",
              "      <td>1488</td>\n",
              "      <td>1462</td>\n",
              "      <td>1395</td>\n",
              "      <td>1317</td>\n",
              "      <td>1437</td>\n",
              "      <td>1384</td>\n",
              "    </tr>\n",
              "    <tr>\n",
              "      <th>10</th>\n",
              "      <td>Outros</td>\n",
              "      <td>568</td>\n",
              "      <td>599</td>\n",
              "      <td>657</td>\n",
              "      <td>656</td>\n",
              "      <td>753</td>\n",
              "      <td>748</td>\n",
              "      <td>792</td>\n",
              "      <td>759</td>\n",
              "      <td>751</td>\n",
              "      <td>960</td>\n",
              "      <td>784</td>\n",
              "    </tr>\n",
              "    <tr>\n",
              "      <th>11</th>\n",
              "      <td>Ignorado</td>\n",
              "      <td>52</td>\n",
              "      <td>47</td>\n",
              "      <td>44</td>\n",
              "      <td>35</td>\n",
              "      <td>24</td>\n",
              "      <td>36</td>\n",
              "      <td>41</td>\n",
              "      <td>31</td>\n",
              "      <td>37</td>\n",
              "      <td>31</td>\n",
              "      <td>15</td>\n",
              "    </tr>\n",
              "    <tr>\n",
              "      <th>12</th>\n",
              "      <td>Total</td>\n",
              "      <td>4023</td>\n",
              "      <td>4260</td>\n",
              "      <td>4465</td>\n",
              "      <td>4512</td>\n",
              "      <td>4719</td>\n",
              "      <td>4762</td>\n",
              "      <td>4832</td>\n",
              "      <td>4616</td>\n",
              "      <td>4635</td>\n",
              "      <td>4928</td>\n",
              "      <td>4512</td>\n",
              "    </tr>\n",
              "  </tbody>\n",
              "</table>\n",
              "</div>"
            ],
            "text/plain": [
              "                       Local_morte  2008  2009  2010  ...  2015  2016  2017  2018\n",
              "6                         Hospital  1002  1031  1071  ...  1041  1044  1022   905\n",
              "7   Outro estabelecimento de saúde    58    74    61  ...    83    93    95   102\n",
              "8                        Domicílio  1164  1199  1293  ...  1307  1393  1383  1322\n",
              "9                      Via pública  1179  1310  1339  ...  1395  1317  1437  1384\n",
              "10                          Outros   568   599   657  ...   759   751   960   784\n",
              "11                        Ignorado    52    47    44  ...    31    37    31    15\n",
              "12                           Total  4023  4260  4465  ...  4616  4635  4928  4512\n",
              "\n",
              "[7 rows x 12 columns]"
            ]
          },
          "metadata": {
            "tags": []
          },
          "execution_count": 138
        }
      ]
    },
    {
      "cell_type": "markdown",
      "metadata": {
        "id": "NK-pm58_PFIF",
        "colab_type": "text"
      },
      "source": [
        "**Em um primeiro momento conseguimos observar e concluir que a maioria dos crimes ocorreram em vias públicas, seguidos exatamente dos crimes que ocorreram nas próprias residências das vítimas com diferenças não muito significativas; eis a nossa proxy.**\n",
        "\n",
        "**E para que possamos visualizar melhor essa comparação, Vamos criar uma coluna que irá conter o total de mortes na série decenal por cada local de ocorrência.** "
      ]
    },
    {
      "cell_type": "code",
      "metadata": {
        "id": "hiCMt7h1ox5A",
        "colab_type": "code",
        "colab": {
          "base_uri": "https://localhost:8080/",
          "height": 248
        },
        "outputId": "59e2f92c-b8ce-407d-b763-110d22f24dd9"
      },
      "source": [
        "#criando uma lista que recebera todo o DATASET\n",
        "lista_colunas=list(fem_por_local)\n",
        "#criando uma coluna 'Total' no DATASET, que receberá os dados da lista criada e somados linha por linha. \n",
        "fem_por_local['Total']=fem_por_local[lista_colunas].sum(axis=1)\n",
        "fem_por_local.head(10)\n"
      ],
      "execution_count": null,
      "outputs": [
        {
          "output_type": "execute_result",
          "data": {
            "text/html": [
              "<div>\n",
              "<style scoped>\n",
              "    .dataframe tbody tr th:only-of-type {\n",
              "        vertical-align: middle;\n",
              "    }\n",
              "\n",
              "    .dataframe tbody tr th {\n",
              "        vertical-align: top;\n",
              "    }\n",
              "\n",
              "    .dataframe thead th {\n",
              "        text-align: right;\n",
              "    }\n",
              "</style>\n",
              "<table border=\"1\" class=\"dataframe\">\n",
              "  <thead>\n",
              "    <tr style=\"text-align: right;\">\n",
              "      <th></th>\n",
              "      <th>Local_morte</th>\n",
              "      <th>2008</th>\n",
              "      <th>2009</th>\n",
              "      <th>2010</th>\n",
              "      <th>2011</th>\n",
              "      <th>2012</th>\n",
              "      <th>2013</th>\n",
              "      <th>2014</th>\n",
              "      <th>2015</th>\n",
              "      <th>2016</th>\n",
              "      <th>2017</th>\n",
              "      <th>2018</th>\n",
              "      <th>Total</th>\n",
              "    </tr>\n",
              "  </thead>\n",
              "  <tbody>\n",
              "    <tr>\n",
              "      <th>6</th>\n",
              "      <td>Hospital</td>\n",
              "      <td>1002</td>\n",
              "      <td>1031</td>\n",
              "      <td>1071</td>\n",
              "      <td>1028</td>\n",
              "      <td>1139</td>\n",
              "      <td>1123</td>\n",
              "      <td>1121</td>\n",
              "      <td>1041</td>\n",
              "      <td>1044</td>\n",
              "      <td>1022</td>\n",
              "      <td>905</td>\n",
              "      <td>11527</td>\n",
              "    </tr>\n",
              "    <tr>\n",
              "      <th>7</th>\n",
              "      <td>Outro estabelecimento de saúde</td>\n",
              "      <td>58</td>\n",
              "      <td>74</td>\n",
              "      <td>61</td>\n",
              "      <td>68</td>\n",
              "      <td>87</td>\n",
              "      <td>77</td>\n",
              "      <td>97</td>\n",
              "      <td>83</td>\n",
              "      <td>93</td>\n",
              "      <td>95</td>\n",
              "      <td>102</td>\n",
              "      <td>895</td>\n",
              "    </tr>\n",
              "    <tr>\n",
              "      <th>8</th>\n",
              "      <td>Domicílio</td>\n",
              "      <td>1164</td>\n",
              "      <td>1199</td>\n",
              "      <td>1293</td>\n",
              "      <td>1295</td>\n",
              "      <td>1311</td>\n",
              "      <td>1290</td>\n",
              "      <td>1319</td>\n",
              "      <td>1307</td>\n",
              "      <td>1393</td>\n",
              "      <td>1383</td>\n",
              "      <td>1322</td>\n",
              "      <td>14276</td>\n",
              "    </tr>\n",
              "    <tr>\n",
              "      <th>9</th>\n",
              "      <td>Via pública</td>\n",
              "      <td>1179</td>\n",
              "      <td>1310</td>\n",
              "      <td>1339</td>\n",
              "      <td>1430</td>\n",
              "      <td>1405</td>\n",
              "      <td>1488</td>\n",
              "      <td>1462</td>\n",
              "      <td>1395</td>\n",
              "      <td>1317</td>\n",
              "      <td>1437</td>\n",
              "      <td>1384</td>\n",
              "      <td>15146</td>\n",
              "    </tr>\n",
              "    <tr>\n",
              "      <th>10</th>\n",
              "      <td>Outros</td>\n",
              "      <td>568</td>\n",
              "      <td>599</td>\n",
              "      <td>657</td>\n",
              "      <td>656</td>\n",
              "      <td>753</td>\n",
              "      <td>748</td>\n",
              "      <td>792</td>\n",
              "      <td>759</td>\n",
              "      <td>751</td>\n",
              "      <td>960</td>\n",
              "      <td>784</td>\n",
              "      <td>8027</td>\n",
              "    </tr>\n",
              "    <tr>\n",
              "      <th>11</th>\n",
              "      <td>Ignorado</td>\n",
              "      <td>52</td>\n",
              "      <td>47</td>\n",
              "      <td>44</td>\n",
              "      <td>35</td>\n",
              "      <td>24</td>\n",
              "      <td>36</td>\n",
              "      <td>41</td>\n",
              "      <td>31</td>\n",
              "      <td>37</td>\n",
              "      <td>31</td>\n",
              "      <td>15</td>\n",
              "      <td>393</td>\n",
              "    </tr>\n",
              "    <tr>\n",
              "      <th>12</th>\n",
              "      <td>Total</td>\n",
              "      <td>4023</td>\n",
              "      <td>4260</td>\n",
              "      <td>4465</td>\n",
              "      <td>4512</td>\n",
              "      <td>4719</td>\n",
              "      <td>4762</td>\n",
              "      <td>4832</td>\n",
              "      <td>4616</td>\n",
              "      <td>4635</td>\n",
              "      <td>4928</td>\n",
              "      <td>4512</td>\n",
              "      <td>50264</td>\n",
              "    </tr>\n",
              "  </tbody>\n",
              "</table>\n",
              "</div>"
            ],
            "text/plain": [
              "                       Local_morte  2008  2009  2010  ...  2016  2017  2018  Total\n",
              "6                         Hospital  1002  1031  1071  ...  1044  1022   905  11527\n",
              "7   Outro estabelecimento de saúde    58    74    61  ...    93    95   102    895\n",
              "8                        Domicílio  1164  1199  1293  ...  1393  1383  1322  14276\n",
              "9                      Via pública  1179  1310  1339  ...  1317  1437  1384  15146\n",
              "10                          Outros   568   599   657  ...   751   960   784   8027\n",
              "11                        Ignorado    52    47    44  ...    37    31    15    393\n",
              "12                           Total  4023  4260  4465  ...  4635  4928  4512  50264\n",
              "\n",
              "[7 rows x 13 columns]"
            ]
          },
          "metadata": {
            "tags": []
          },
          "execution_count": 139
        }
      ]
    },
    {
      "cell_type": "code",
      "metadata": {
        "id": "hlYJvLAFpWLj",
        "colab_type": "code",
        "colab": {
          "base_uri": "https://localhost:8080/",
          "height": 163
        },
        "outputId": "0717a2c1-0157-4341-9b11-8aa5fba9c193"
      },
      "source": [
        "#verificando as ordens descendentes de tais dados\n",
        "\n",
        "#definindo os locais das mortes como indexador para melhor visualização\n",
        "fem_por_local=fem_por_local.set_index('Local_morte')\n",
        "\n",
        "#visualizando os dados de forma descendente\n",
        "fem_por_local.Total.sort_values(ascending=False)\n"
      ],
      "execution_count": null,
      "outputs": [
        {
          "output_type": "execute_result",
          "data": {
            "text/plain": [
              "Local_morte\n",
              "Total                             50264\n",
              "Via pública                       15146\n",
              "Domicílio                         14276\n",
              "Hospital                          11527\n",
              "Outros                             8027\n",
              "Outro estabelecimento de saúde      895\n",
              "Ignorado                            393\n",
              "Name: Total, dtype: int64"
            ]
          },
          "metadata": {
            "tags": []
          },
          "execution_count": 140
        }
      ]
    },
    {
      "cell_type": "code",
      "metadata": {
        "id": "qkPb415jWwJv",
        "colab_type": "code",
        "colab": {
          "base_uri": "https://localhost:8080/",
          "height": 53
        },
        "outputId": "0ede90f6-58ad-442e-ad62-7343657d8ef1"
      },
      "source": [
        "print('De um total de 50.264 mortes de mulheres por motivos de agressão,',(\"{:.2f}\".format((14276/50264)*100)),\n",
        "      '% ocorreram dentro dos proprios domicilios dessas mulheres, o que somam 14.276 mortes desse tipo.')"
      ],
      "execution_count": null,
      "outputs": [
        {
          "output_type": "stream",
          "text": [
            "De um total de 50.264 mortes de mulheres por motivos de agressão, 28.40 % ocorreram dentro dos proprios domicilios dessas mulheres, o que somam 14.276 mortes desse tipo.\n"
          ],
          "name": "stdout"
        }
      ]
    },
    {
      "cell_type": "markdown",
      "metadata": {
        "id": "qUgia44V0LA2",
        "colab_type": "text"
      },
      "source": [
        "**Considerações finais.**\n",
        "\n",
        "**O feminicidio é um problema socioeconômico que recebe cada vez mais apelo por mudanças no cenário brasileiro, um dos países mais violentos para uma mulher viver, e trabalhos analíticos desse tipo podem orientar tomadas de decisão que visam combater o fenômeno em nossa sociedade, bem como colaborar com estudos sociais aplicados que tentam identificar a efetividade dos diferentes programas e leis voltadas ao combate do feminicídio.**"
      ]
    }
  ]
}